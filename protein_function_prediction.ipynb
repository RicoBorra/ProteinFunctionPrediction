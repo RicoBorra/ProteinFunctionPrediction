{
 "cells": [
  {
   "cell_type": "markdown",
   "metadata": {},
   "source": [
    "# Protein Function Prediction\n",
    "BioQuants course project by Federico Borra s319885"
   ]
  },
  {
   "cell_type": "markdown",
   "metadata": {},
   "source": [
    "## Protein Function Definition using Gene Ontology generic slim\n",
    "The first thing to do in order to develop a machine learning model to predict protein function is defining exactly what _protein function_ is.\n",
    "\n",
    "To do it we use the Gene Ontology framework, in which one of the three main categories is, in fact, \"molecular function\".\n",
    "\n",
    "Since the terms that are part of the \"molecular function\" category are too many we narrow down the prediction target by only considering the terms deemed \"molecular function\" in the GO generic slim subset of the Gene Ontology database.\n",
    "\n",
    "The code below creates a dictionary with keys that are the molecular function terms in the generic slim and the values which are the set of all the descendants in the complete GO graph.\n",
    "We use the python set data structure to obtain a $O(1)$ time complexity when checking if a term is part of it."
   ]
  },
  {
   "cell_type": "code",
   "execution_count": 1,
   "metadata": {},
   "outputs": [],
   "source": [
    "from ontobio.ontol_factory import OntologyFactory\n",
    "ont = OntologyFactory().create(\"go\")\n",
    "slim = OntologyFactory().create(\"goslim_generic.json\")\n",
    "\n",
    "MOLECULAR_FUNCTION = \"GO:0003674\"\n",
    "\n",
    "slim_go_terms = [el for el in list(slim.get_graph().nodes()) if el.startswith(\"GO\")] # get all GO terms in generic slim set\n",
    "molecular_functions = ont.descendants(MOLECULAR_FUNCTION) # get all molecular functions in GO\n",
    "slim_molecular_functions = list(set(slim_go_terms) & set(molecular_functions)) # take intersection between molecular functions and slim GO terms\n",
    "slim_molecular_functions_descendants = {el : set(ont.descendants(el)) for el in slim_molecular_functions} # get all descendants of the above"
   ]
  },
  {
   "cell_type": "markdown",
   "metadata": {},
   "source": [
    "## UniProt Database\n",
    "Now that we have a viable definition of what the prediction target is (in our case) we import the UniProt database.\n",
    "Actually only a subset of it, namely the circa 20k human proteins.\n",
    "\n",
    "We have downloaded this subset as a tsv file, selecting only the columns of interest, seen below."
   ]
  },
  {
   "cell_type": "code",
   "execution_count": 2,
   "metadata": {},
   "outputs": [],
   "source": [
    "import pandas as pd\n",
    "import torch\n",
    "import numpy as np\n",
    "\n",
    "# this is a customized version of the UniProt database, only for human proteins, which are around 20k\n",
    "# the columns were chosen to minimize the size of the file while maintaining useful information\n",
    "df = pd.read_csv(\"uniprotkb_reviewed_true_AND_model_organ_2023_12_29.tsv\", sep=\"\\t\")\n",
    "df = df[~df['Gene Ontology (GO)'].isna()] # remove the ones without GO annotations"
   ]
  },
  {
   "cell_type": "code",
   "execution_count": 3,
   "metadata": {},
   "outputs": [
    {
     "data": {
      "text/html": [
       "<div>\n",
       "<style scoped>\n",
       "    .dataframe tbody tr th:only-of-type {\n",
       "        vertical-align: middle;\n",
       "    }\n",
       "\n",
       "    .dataframe tbody tr th {\n",
       "        vertical-align: top;\n",
       "    }\n",
       "\n",
       "    .dataframe thead th {\n",
       "        text-align: right;\n",
       "    }\n",
       "</style>\n",
       "<table border=\"1\" class=\"dataframe\">\n",
       "  <thead>\n",
       "    <tr style=\"text-align: right;\">\n",
       "      <th></th>\n",
       "      <th>Entry</th>\n",
       "      <th>Entry Name</th>\n",
       "      <th>Protein names</th>\n",
       "      <th>Gene Names</th>\n",
       "      <th>Organism</th>\n",
       "      <th>Length</th>\n",
       "      <th>Sequence</th>\n",
       "      <th>Gene Ontology (molecular function)</th>\n",
       "      <th>Gene Ontology (cellular component)</th>\n",
       "      <th>Gene Ontology (biological process)</th>\n",
       "      <th>Gene Ontology IDs</th>\n",
       "      <th>Gene Ontology (GO)</th>\n",
       "    </tr>\n",
       "  </thead>\n",
       "  <tbody>\n",
       "    <tr>\n",
       "      <th>1</th>\n",
       "      <td>A0A024RBG1</td>\n",
       "      <td>NUD4B_HUMAN</td>\n",
       "      <td>Diphosphoinositol polyphosphate phosphohydrola...</td>\n",
       "      <td>NUDT4B</td>\n",
       "      <td>Homo sapiens (Human)</td>\n",
       "      <td>181</td>\n",
       "      <td>MMKFKPNQTRTYDREGFKKRAACLCFRSEQEDEVLLVSSSRYPDQW...</td>\n",
       "      <td>bis(5'-adenosyl)-hexaphosphatase activity [GO:...</td>\n",
       "      <td>cytoplasm [GO:0005737]; cytosol [GO:0005829]; ...</td>\n",
       "      <td>adenosine 5'-(hexahydrogen pentaphosphate) cat...</td>\n",
       "      <td>GO:0000298; GO:0003723; GO:0005634; GO:0005737...</td>\n",
       "      <td>cytoplasm [GO:0005737]; cytosol [GO:0005829]; ...</td>\n",
       "    </tr>\n",
       "    <tr>\n",
       "      <th>28</th>\n",
       "      <td>A0A075B6Q5</td>\n",
       "      <td>HV364_HUMAN</td>\n",
       "      <td>Immunoglobulin heavy variable 3-64</td>\n",
       "      <td>IGHV3-64</td>\n",
       "      <td>Homo sapiens (Human)</td>\n",
       "      <td>118</td>\n",
       "      <td>MMEFGLSWVFLVAIFKGVQCEVQLVESGEGLVQPGGSLRLSCAASG...</td>\n",
       "      <td>antigen binding [GO:0003823]</td>\n",
       "      <td>extracellular region [GO:0005576]; immunoglobu...</td>\n",
       "      <td>immunoglobulin mediated immune response [GO:00...</td>\n",
       "      <td>GO:0003823; GO:0005576; GO:0005886; GO:0016064...</td>\n",
       "      <td>extracellular region [GO:0005576]; immunoglobu...</td>\n",
       "    </tr>\n",
       "    <tr>\n",
       "      <th>30</th>\n",
       "      <td>A0A075B6R2</td>\n",
       "      <td>HV404_HUMAN</td>\n",
       "      <td>Immunoglobulin heavy variable 4-4</td>\n",
       "      <td>IGHV4-4</td>\n",
       "      <td>Homo sapiens (Human)</td>\n",
       "      <td>117</td>\n",
       "      <td>MKHLWFFLLLVAAPRWVLSQVQLQESGPGLVKPSGTLSLTCAVSGG...</td>\n",
       "      <td>antigen binding [GO:0003823]</td>\n",
       "      <td>extracellular region [GO:0005576]; immunoglobu...</td>\n",
       "      <td>immunoglobulin mediated immune response [GO:00...</td>\n",
       "      <td>GO:0003823; GO:0005576; GO:0005886; GO:0016064...</td>\n",
       "      <td>extracellular region [GO:0005576]; immunoglobu...</td>\n",
       "    </tr>\n",
       "    <tr>\n",
       "      <th>38</th>\n",
       "      <td>A0A075B6T6</td>\n",
       "      <td>TVAL2_HUMAN</td>\n",
       "      <td>T cell receptor alpha variable 12-2</td>\n",
       "      <td>TRAV12-2</td>\n",
       "      <td>Homo sapiens (Human)</td>\n",
       "      <td>113</td>\n",
       "      <td>MKSLRVLLVILWLQLSWVWSQQKEVEQNSGPLSVPEGAIASLNCTY...</td>\n",
       "      <td>peptide antigen binding [GO:0042605]</td>\n",
       "      <td>T cell receptor complex [GO:0042101]</td>\n",
       "      <td>adaptive immune response [GO:0002250]</td>\n",
       "      <td>GO:0002250; GO:0042101; GO:0042605</td>\n",
       "      <td>T cell receptor complex [GO:0042101]; peptide ...</td>\n",
       "    </tr>\n",
       "    <tr>\n",
       "      <th>43</th>\n",
       "      <td>A0A075B6W5</td>\n",
       "      <td>TVA23_HUMAN</td>\n",
       "      <td>T cell receptor alpha variable 23/delta variab...</td>\n",
       "      <td>TRAV23DV6</td>\n",
       "      <td>Homo sapiens (Human)</td>\n",
       "      <td>121</td>\n",
       "      <td>MDKILGASFLVLWLQLCWVSGQQKEKSDQQQVKQSPQSLIVQKGGI...</td>\n",
       "      <td>peptide antigen binding [GO:0042605]</td>\n",
       "      <td>T cell receptor complex [GO:0042101]</td>\n",
       "      <td>adaptive immune response [GO:0002250]</td>\n",
       "      <td>GO:0002250; GO:0042101; GO:0042605</td>\n",
       "      <td>T cell receptor complex [GO:0042101]; peptide ...</td>\n",
       "    </tr>\n",
       "  </tbody>\n",
       "</table>\n",
       "</div>"
      ],
      "text/plain": [
       "         Entry   Entry Name  \\\n",
       "1   A0A024RBG1  NUD4B_HUMAN   \n",
       "28  A0A075B6Q5  HV364_HUMAN   \n",
       "30  A0A075B6R2  HV404_HUMAN   \n",
       "38  A0A075B6T6  TVAL2_HUMAN   \n",
       "43  A0A075B6W5  TVA23_HUMAN   \n",
       "\n",
       "                                        Protein names Gene Names  \\\n",
       "1   Diphosphoinositol polyphosphate phosphohydrola...     NUDT4B   \n",
       "28                 Immunoglobulin heavy variable 3-64   IGHV3-64   \n",
       "30                  Immunoglobulin heavy variable 4-4    IGHV4-4   \n",
       "38                T cell receptor alpha variable 12-2   TRAV12-2   \n",
       "43  T cell receptor alpha variable 23/delta variab...  TRAV23DV6   \n",
       "\n",
       "                Organism  Length  \\\n",
       "1   Homo sapiens (Human)     181   \n",
       "28  Homo sapiens (Human)     118   \n",
       "30  Homo sapiens (Human)     117   \n",
       "38  Homo sapiens (Human)     113   \n",
       "43  Homo sapiens (Human)     121   \n",
       "\n",
       "                                             Sequence  \\\n",
       "1   MMKFKPNQTRTYDREGFKKRAACLCFRSEQEDEVLLVSSSRYPDQW...   \n",
       "28  MMEFGLSWVFLVAIFKGVQCEVQLVESGEGLVQPGGSLRLSCAASG...   \n",
       "30  MKHLWFFLLLVAAPRWVLSQVQLQESGPGLVKPSGTLSLTCAVSGG...   \n",
       "38  MKSLRVLLVILWLQLSWVWSQQKEVEQNSGPLSVPEGAIASLNCTY...   \n",
       "43  MDKILGASFLVLWLQLCWVSGQQKEKSDQQQVKQSPQSLIVQKGGI...   \n",
       "\n",
       "                   Gene Ontology (molecular function)  \\\n",
       "1   bis(5'-adenosyl)-hexaphosphatase activity [GO:...   \n",
       "28                       antigen binding [GO:0003823]   \n",
       "30                       antigen binding [GO:0003823]   \n",
       "38               peptide antigen binding [GO:0042605]   \n",
       "43               peptide antigen binding [GO:0042605]   \n",
       "\n",
       "                   Gene Ontology (cellular component)  \\\n",
       "1   cytoplasm [GO:0005737]; cytosol [GO:0005829]; ...   \n",
       "28  extracellular region [GO:0005576]; immunoglobu...   \n",
       "30  extracellular region [GO:0005576]; immunoglobu...   \n",
       "38               T cell receptor complex [GO:0042101]   \n",
       "43               T cell receptor complex [GO:0042101]   \n",
       "\n",
       "                   Gene Ontology (biological process)  \\\n",
       "1   adenosine 5'-(hexahydrogen pentaphosphate) cat...   \n",
       "28  immunoglobulin mediated immune response [GO:00...   \n",
       "30  immunoglobulin mediated immune response [GO:00...   \n",
       "38              adaptive immune response [GO:0002250]   \n",
       "43              adaptive immune response [GO:0002250]   \n",
       "\n",
       "                                    Gene Ontology IDs  \\\n",
       "1   GO:0000298; GO:0003723; GO:0005634; GO:0005737...   \n",
       "28  GO:0003823; GO:0005576; GO:0005886; GO:0016064...   \n",
       "30  GO:0003823; GO:0005576; GO:0005886; GO:0016064...   \n",
       "38                 GO:0002250; GO:0042101; GO:0042605   \n",
       "43                 GO:0002250; GO:0042101; GO:0042605   \n",
       "\n",
       "                                   Gene Ontology (GO)  \n",
       "1   cytoplasm [GO:0005737]; cytosol [GO:0005829]; ...  \n",
       "28  extracellular region [GO:0005576]; immunoglobu...  \n",
       "30  extracellular region [GO:0005576]; immunoglobu...  \n",
       "38  T cell receptor complex [GO:0042101]; peptide ...  \n",
       "43  T cell receptor complex [GO:0042101]; peptide ...  "
      ]
     },
     "execution_count": 3,
     "metadata": {},
     "output_type": "execute_result"
    }
   ],
   "source": [
    "df = df[~df['Gene Ontology (molecular function)'].isna()] # remove the ones without GO annotations for molecular function\n",
    "df.head()"
   ]
  },
  {
   "cell_type": "markdown",
   "metadata": {},
   "source": [
    "We plot a histogram of the frequency of various sequence lengths in the database, we ascertain that most of the proteins have length below 1024, this information will be useful later on"
   ]
  },
  {
   "cell_type": "code",
   "execution_count": 4,
   "metadata": {},
   "outputs": [
    {
     "data": {
      "text/plain": [
       "<AxesSubplot:>"
      ]
     },
     "execution_count": 4,
     "metadata": {},
     "output_type": "execute_result"
    },
    {
     "data": {
      "image/png": "[encoded data removed]",
      "text/plain": [
       "<Figure size 432x288 with 1 Axes>"
      ]
     },
     "metadata": {
      "needs_background": "light"
     },
     "output_type": "display_data"
    }
   ],
   "source": [
    "df[df['Length'] < 4000]['Length'].hist(bins=100) # below 4k, i.e. removing outliers"
   ]
  },
  {
   "cell_type": "markdown",
   "metadata": {},
   "source": [
    "Now we do some data wrangling, in order to obtain a viable multilabel type DataFrame.\n",
    "\n",
    "We first generate a list of the molecular functions (that are still relative to the full GO database).\n",
    "\n",
    "We then assign True every label of the generic slim GO subset if one of the labels we obtained above is its descendant.\n",
    "\n",
    "We then visualize the resulting DataFrame."
   ]
  },
  {
   "cell_type": "code",
   "execution_count": 5,
   "metadata": {},
   "outputs": [],
   "source": [
    "df['Gene Ontology (molecular function)'] = df['Gene Ontology (molecular function)']\\\n",
    "    .apply(lambda x: x.split(\";\")).apply(lambda x: [el[el.index(\"[GO\")+1:-1] for el in x])"
   ]
  },
  {
   "cell_type": "code",
   "execution_count": 6,
   "metadata": {},
   "outputs": [],
   "source": [
    "for k in slim_molecular_functions:\n",
    "    df[ont.node(k)['label']] = df['Gene Ontology (molecular function)']\\\n",
    "        .apply(lambda x: max([True if el in slim_molecular_functions_descendants[k] else False for el in x]))"
   ]
  },
  {
   "cell_type": "code",
   "execution_count": 7,
   "metadata": {},
   "outputs": [
    {
     "data": {
      "text/html": [
       "<div>\n",
       "<style scoped>\n",
       "    .dataframe tbody tr th:only-of-type {\n",
       "        vertical-align: middle;\n",
       "    }\n",
       "\n",
       "    .dataframe tbody tr th {\n",
       "        vertical-align: top;\n",
       "    }\n",
       "\n",
       "    .dataframe thead th {\n",
       "        text-align: right;\n",
       "    }\n",
       "</style>\n",
       "<table border=\"1\" class=\"dataframe\">\n",
       "  <thead>\n",
       "    <tr style=\"text-align: right;\">\n",
       "      <th></th>\n",
       "      <th>Sequence</th>\n",
       "      <th>small molecule sensor activity</th>\n",
       "      <th>cyclase activity</th>\n",
       "      <th>catalytic activity</th>\n",
       "      <th>general transcription initiation factor activity</th>\n",
       "      <th>DNA binding</th>\n",
       "      <th>histone binding</th>\n",
       "      <th>transporter activity</th>\n",
       "      <th>cargo receptor activity</th>\n",
       "      <th>protein tag activity</th>\n",
       "      <th>...</th>\n",
       "      <th>toxin activity</th>\n",
       "      <th>cytoskeletal motor activity</th>\n",
       "      <th>transcription regulator activity</th>\n",
       "      <th>catalytic activity, acting on a protein</th>\n",
       "      <th>hydrolase activity</th>\n",
       "      <th>transferase activity</th>\n",
       "      <th>molecular function regulator activity</th>\n",
       "      <th>lipid binding</th>\n",
       "      <th>antioxidant activity</th>\n",
       "      <th>cytoskeletal protein binding</th>\n",
       "    </tr>\n",
       "  </thead>\n",
       "  <tbody>\n",
       "    <tr>\n",
       "      <th>1</th>\n",
       "      <td>MMKFKPNQTRTYDREGFKKRAACLCFRSEQEDEVLLVSSSRYPDQW...</td>\n",
       "      <td>False</td>\n",
       "      <td>False</td>\n",
       "      <td>True</td>\n",
       "      <td>False</td>\n",
       "      <td>False</td>\n",
       "      <td>False</td>\n",
       "      <td>False</td>\n",
       "      <td>False</td>\n",
       "      <td>False</td>\n",
       "      <td>...</td>\n",
       "      <td>False</td>\n",
       "      <td>False</td>\n",
       "      <td>False</td>\n",
       "      <td>False</td>\n",
       "      <td>True</td>\n",
       "      <td>False</td>\n",
       "      <td>False</td>\n",
       "      <td>False</td>\n",
       "      <td>False</td>\n",
       "      <td>False</td>\n",
       "    </tr>\n",
       "    <tr>\n",
       "      <th>28</th>\n",
       "      <td>MMEFGLSWVFLVAIFKGVQCEVQLVESGEGLVQPGGSLRLSCAASG...</td>\n",
       "      <td>False</td>\n",
       "      <td>False</td>\n",
       "      <td>False</td>\n",
       "      <td>False</td>\n",
       "      <td>False</td>\n",
       "      <td>False</td>\n",
       "      <td>False</td>\n",
       "      <td>False</td>\n",
       "      <td>False</td>\n",
       "      <td>...</td>\n",
       "      <td>False</td>\n",
       "      <td>False</td>\n",
       "      <td>False</td>\n",
       "      <td>False</td>\n",
       "      <td>False</td>\n",
       "      <td>False</td>\n",
       "      <td>False</td>\n",
       "      <td>False</td>\n",
       "      <td>False</td>\n",
       "      <td>False</td>\n",
       "    </tr>\n",
       "    <tr>\n",
       "      <th>30</th>\n",
       "      <td>MKHLWFFLLLVAAPRWVLSQVQLQESGPGLVKPSGTLSLTCAVSGG...</td>\n",
       "      <td>False</td>\n",
       "      <td>False</td>\n",
       "      <td>False</td>\n",
       "      <td>False</td>\n",
       "      <td>False</td>\n",
       "      <td>False</td>\n",
       "      <td>False</td>\n",
       "      <td>False</td>\n",
       "      <td>False</td>\n",
       "      <td>...</td>\n",
       "      <td>False</td>\n",
       "      <td>False</td>\n",
       "      <td>False</td>\n",
       "      <td>False</td>\n",
       "      <td>False</td>\n",
       "      <td>False</td>\n",
       "      <td>False</td>\n",
       "      <td>False</td>\n",
       "      <td>False</td>\n",
       "      <td>False</td>\n",
       "    </tr>\n",
       "    <tr>\n",
       "      <th>38</th>\n",
       "      <td>MKSLRVLLVILWLQLSWVWSQQKEVEQNSGPLSVPEGAIASLNCTY...</td>\n",
       "      <td>False</td>\n",
       "      <td>False</td>\n",
       "      <td>False</td>\n",
       "      <td>False</td>\n",
       "      <td>False</td>\n",
       "      <td>False</td>\n",
       "      <td>False</td>\n",
       "      <td>False</td>\n",
       "      <td>False</td>\n",
       "      <td>...</td>\n",
       "      <td>False</td>\n",
       "      <td>False</td>\n",
       "      <td>False</td>\n",
       "      <td>False</td>\n",
       "      <td>False</td>\n",
       "      <td>False</td>\n",
       "      <td>False</td>\n",
       "      <td>False</td>\n",
       "      <td>False</td>\n",
       "      <td>False</td>\n",
       "    </tr>\n",
       "    <tr>\n",
       "      <th>43</th>\n",
       "      <td>MDKILGASFLVLWLQLCWVSGQQKEKSDQQQVKQSPQSLIVQKGGI...</td>\n",
       "      <td>False</td>\n",
       "      <td>False</td>\n",
       "      <td>False</td>\n",
       "      <td>False</td>\n",
       "      <td>False</td>\n",
       "      <td>False</td>\n",
       "      <td>False</td>\n",
       "      <td>False</td>\n",
       "      <td>False</td>\n",
       "      <td>...</td>\n",
       "      <td>False</td>\n",
       "      <td>False</td>\n",
       "      <td>False</td>\n",
       "      <td>False</td>\n",
       "      <td>False</td>\n",
       "      <td>False</td>\n",
       "      <td>False</td>\n",
       "      <td>False</td>\n",
       "      <td>False</td>\n",
       "      <td>False</td>\n",
       "    </tr>\n",
       "  </tbody>\n",
       "</table>\n",
       "<p>5 rows × 41 columns</p>\n",
       "</div>"
      ],
      "text/plain": [
       "                                             Sequence  \\\n",
       "1   MMKFKPNQTRTYDREGFKKRAACLCFRSEQEDEVLLVSSSRYPDQW...   \n",
       "28  MMEFGLSWVFLVAIFKGVQCEVQLVESGEGLVQPGGSLRLSCAASG...   \n",
       "30  MKHLWFFLLLVAAPRWVLSQVQLQESGPGLVKPSGTLSLTCAVSGG...   \n",
       "38  MKSLRVLLVILWLQLSWVWSQQKEVEQNSGPLSVPEGAIASLNCTY...   \n",
       "43  MDKILGASFLVLWLQLCWVSGQQKEKSDQQQVKQSPQSLIVQKGGI...   \n",
       "\n",
       "    small molecule sensor activity  cyclase activity  catalytic activity  \\\n",
       "1                            False             False                True   \n",
       "28                           False             False               False   \n",
       "30                           False             False               False   \n",
       "38                           False             False               False   \n",
       "43                           False             False               False   \n",
       "\n",
       "    general transcription initiation factor activity  DNA binding  \\\n",
       "1                                              False        False   \n",
       "28                                             False        False   \n",
       "30                                             False        False   \n",
       "38                                             False        False   \n",
       "43                                             False        False   \n",
       "\n",
       "    histone binding  transporter activity  cargo receptor activity  \\\n",
       "1             False                 False                    False   \n",
       "28            False                 False                    False   \n",
       "30            False                 False                    False   \n",
       "38            False                 False                    False   \n",
       "43            False                 False                    False   \n",
       "\n",
       "    protein tag activity  ...  toxin activity  cytoskeletal motor activity  \\\n",
       "1                  False  ...           False                        False   \n",
       "28                 False  ...           False                        False   \n",
       "30                 False  ...           False                        False   \n",
       "38                 False  ...           False                        False   \n",
       "43                 False  ...           False                        False   \n",
       "\n",
       "    transcription regulator activity  catalytic activity, acting on a protein  \\\n",
       "1                              False                                    False   \n",
       "28                             False                                    False   \n",
       "30                             False                                    False   \n",
       "38                             False                                    False   \n",
       "43                             False                                    False   \n",
       "\n",
       "    hydrolase activity  transferase activity  \\\n",
       "1                 True                 False   \n",
       "28               False                 False   \n",
       "30               False                 False   \n",
       "38               False                 False   \n",
       "43               False                 False   \n",
       "\n",
       "    molecular function regulator activity  lipid binding  \\\n",
       "1                                   False          False   \n",
       "28                                  False          False   \n",
       "30                                  False          False   \n",
       "38                                  False          False   \n",
       "43                                  False          False   \n",
       "\n",
       "    antioxidant activity  cytoskeletal protein binding  \n",
       "1                  False                         False  \n",
       "28                 False                         False  \n",
       "30                 False                         False  \n",
       "38                 False                         False  \n",
       "43                 False                         False  \n",
       "\n",
       "[5 rows x 41 columns]"
      ]
     },
     "execution_count": 7,
     "metadata": {},
     "output_type": "execute_result"
    }
   ],
   "source": [
    "ohe_df = df.drop(columns=['Entry', 'Entry Name', 'Protein names', 'Gene Names', 'Organism',\n",
    "                            'Length', 'Gene Ontology (molecular function)',\n",
    "                            'Gene Ontology (cellular component)',\n",
    "                            'Gene Ontology (biological process)', 'Gene Ontology IDs',\n",
    "                            'Gene Ontology (GO)'])\n",
    "ohe_df.head()"
   ]
  },
  {
   "cell_type": "markdown",
   "metadata": {},
   "source": [
    "Lastly, we create a `labels` variable that we can use later to get back from the generic vectorial representation of the labels.\n",
    "\n",
    "We also create said vectorial label representation, which we can then feed to a machine learning model"
   ]
  },
  {
   "cell_type": "code",
   "execution_count": 8,
   "metadata": {},
   "outputs": [],
   "source": [
    "labels = ohe_df.drop(columns=[\"Sequence\"]).columns\n",
    "X = df[labels].to_numpy().astype(np.float32)\n",
    "l = []\n",
    "for i in range(X.shape[0]):\n",
    "    l.append(torch.tensor(X[i,:]))"
   ]
  },
  {
   "cell_type": "markdown",
   "metadata": {},
   "source": [
    "# LLM Fine Tuning (using a Logistic Regression as Classification Head)\n",
    "This way we take advantage of Logistic Regression multivariate response and perform independent classification of all the various classes while having the gradients all flow through the same model, so as to obtain a better latent space representation of the various sequences.\n",
    "\n",
    "First we create a `Dataset` object with the vectorial representation of the labels and the relative sequence, then we shuffle (using a seed, 42) and split it in train and test partitions."
   ]
  },
  {
   "cell_type": "code",
   "execution_count": 9,
   "metadata": {},
   "outputs": [
    {
     "data": {
      "text/plain": [
       "DatasetDict({\n",
       "    train: Dataset({\n",
       "        features: ['labels', 'sequence'],\n",
       "        num_rows: 12817\n",
       "    })\n",
       "    test: Dataset({\n",
       "        features: ['labels', 'sequence'],\n",
       "        num_rows: 3205\n",
       "    })\n",
       "})"
      ]
     },
     "execution_count": 9,
     "metadata": {},
     "output_type": "execute_result"
    }
   ],
   "source": [
    "from datasets import Dataset\n",
    "\n",
    "ds = Dataset.from_dict({\"labels\": l, \"sequence\" : df['Sequence']})\n",
    "ds = ds.shuffle(seed=42).train_test_split(test_size=0.2, seed=42) # both shuffle and split need seed to guarentee determinism, that we need to do training some epochs at a time\n",
    "ds"
   ]
  },
  {
   "cell_type": "markdown",
   "metadata": {},
   "source": [
    "We instantiate a pre-trained model, ESM, found at https://huggingface.co/docs/transformers/model_doc/esm\n",
    "\n",
    "It's a transformer based architecture pre-trained on a classical masked language modeling task (predict a given token, in thin case amminoacid in a sequence, given the surrounding context) employing the famous self-attention mechanism.\n",
    "\n",
    "Given the scarce computational resources at our disposal we use the version of the model wth 8 million parameters, although it can go up to 15 billion, which would undoubtedly perform better."
   ]
  },
  {
   "cell_type": "code",
   "execution_count": 10,
   "metadata": {},
   "outputs": [
    {
     "name": "stderr",
     "output_type": "stream",
     "text": [
      "Some weights of EsmModel were not initialized from the model checkpoint at facebook/esm2_t6_8M_UR50D and are newly initialized: ['esm.pooler.dense.weight', 'esm.pooler.dense.bias']\n",
      "You should probably TRAIN this model on a down-stream task to be able to use it for predictions and inference.\n"
     ]
    }
   ],
   "source": [
    "from transformers import AutoTokenizer, EsmModel\n",
    "import torch\n",
    "import os\n",
    "\n",
    "os.environ['TOKENIZERS_PARALLELISM'] = \"false\"\n",
    "os.environ[\"WANDB_DISABLED\"] = \"true\" # disable remote logging\n",
    "\n",
    "checkpoint = \"facebook/esm2_t6_8M_UR50D\"\n",
    "\n",
    "BATCH_SIZE = 4\n",
    "NUM_EPOCHS = 20\n",
    "\n",
    "tokenizer = AutoTokenizer.from_pretrained(checkpoint)\n",
    "model = EsmModel.from_pretrained(checkpoint)"
   ]
  },
  {
   "cell_type": "markdown",
   "metadata": {},
   "source": [
    "We tokenize the sequences. As is typical in LLM finetuning we \"freeze\" the tokenizer, i.e. we do not train the model that produces the embeddings of single tokens but only the language model afterwards which \"shifts\" the vector representation of the token depending on the surrounding ones."
   ]
  },
  {
   "cell_type": "code",
   "execution_count": 11,
   "metadata": {},
   "outputs": [
    {
     "data": {
      "application/vnd.jupyter.widget-view+json": {
       "model_id": "2492b4cebb564828b782984c7d6c0344",
       "version_major": 2,
       "version_minor": 0
      },
      "text/plain": [
       "Map:   0%|          | 0/12817 [00:00<?, ? examples/s]"
      ]
     },
     "metadata": {},
     "output_type": "display_data"
    },
    {
     "data": {
      "application/vnd.jupyter.widget-view+json": {
       "model_id": "d5e830c8fa384af6bbfaccc3082104f5",
       "version_major": 2,
       "version_minor": 0
      },
      "text/plain": [
       "Map:   0%|          | 0/3205 [00:00<?, ? examples/s]"
      ]
     },
     "metadata": {},
     "output_type": "display_data"
    },
    {
     "data": {
      "text/plain": [
       "DatasetDict({\n",
       "    train: Dataset({\n",
       "        features: ['labels', 'input_ids', 'attention_mask'],\n",
       "        num_rows: 12817\n",
       "    })\n",
       "    test: Dataset({\n",
       "        features: ['labels', 'input_ids', 'attention_mask'],\n",
       "        num_rows: 3205\n",
       "    })\n",
       "})"
      ]
     },
     "execution_count": 11,
     "metadata": {},
     "output_type": "execute_result"
    }
   ],
   "source": [
    "def preprocess_tokenize(mapped_ds):\n",
    "    return tokenizer(mapped_ds['sequence'], truncation=True, max_length=1024)\n",
    "\n",
    "ds = ds.map(preprocess_tokenize)\n",
    "ds = ds.remove_columns(\"sequence\")\n",
    "ds"
   ]
  },
  {
   "cell_type": "markdown",
   "metadata": {},
   "source": [
    "Now we add to the ESM encoder a custom multilabel classification head: the component we call `self.clf` in the model definition.\n",
    "\n",
    "We create a subclass of the `torch.nn.Module` class for this purpose.\n",
    "\n",
    "Moreover we need to define a `MultilabelTrainer` which is a subclass of Huggingface's `transformers.Trainer` base class. Here we need to override the `compute_loss` method to adapt the `BCELoss` to the multilabel use case."
   ]
  },
  {
   "cell_type": "code",
   "execution_count": 12,
   "metadata": {},
   "outputs": [],
   "source": [
    "#import pytorch_lightning as pl\n",
    "import torch.nn as nn\n",
    "from transformers import Trainer, TrainingArguments\n",
    "\n",
    "class ESMwithMultiClass(nn.Module):\n",
    "    def __init__(self, num_labels=40, lr=1e-4):\n",
    "        super().__init__()\n",
    "        self.llm = model\n",
    "        self.num_labels = num_labels\n",
    "        self.clf = nn.Sequential(\n",
    "            nn.Flatten(),\n",
    "            nn.Dropout(0.2),\n",
    "            nn.Linear(in_features=model.pooler.dense.in_features, out_features=self.num_labels),\n",
    "            nn.Sigmoid()\n",
    "        )\n",
    "        self.lr = lr\n",
    "\n",
    "    def forward(self, input_ids, attention_mask, labels=None):\n",
    "        return {'logits': self.clf(self.llm(input_ids, attention_mask).pooler_output)}\n",
    "    \n",
    "class MultilabelTrainer(Trainer):\n",
    "    def compute_loss(self, model, inputs, return_outputs=False):\n",
    "        labels = inputs.get(\"labels\")\n",
    "        logits = model(**inputs)['logits']\n",
    "        #logits = outputs.get('logits')\n",
    "        loss_fct = nn.BCELoss()\n",
    "        loss = loss_fct(logits.view(-1, self.model.num_labels),\n",
    "                        labels.float().view(-1, self.model.num_labels))\n",
    "        loss = loss.mean()\n",
    "        return (loss, model(**inputs)) if return_outputs else loss"
   ]
  },
  {
   "cell_type": "markdown",
   "metadata": {},
   "source": [
    "Lastly, we define some metrics in the `compute_metrics` function. \n",
    "\n",
    "Namely, an _F1_ score that is the average of the F1 scores for the various classes (like \"DNA binding\") on their own.\n",
    "\n",
    "We also define a Hamming distance which we then average (implemented with a logical xor since the predictions are taken from a binary alphabet).\n",
    "It has a nice interpretation: the average number of wrong predictions (be they false negative or false positive) per sample."
   ]
  },
  {
   "cell_type": "code",
   "execution_count": 13,
   "metadata": {},
   "outputs": [],
   "source": [
    "import evaluate\n",
    "from transformers import DataCollatorWithPadding\n",
    "from typing import List, Dict, Any\n",
    "\n",
    "def compute_metrics(eval_pred):\n",
    "    f1_score = evaluate.load(\"f1\")\n",
    "    predictions, labels = eval_pred\n",
    "    predictions = np.where(predictions > 0.5, 1, 0)\n",
    "    labels = np.where(labels > 0.5, 1, 0)\n",
    "    f1s = []\n",
    "    for i in range(40):\n",
    "        f1s.append(f1_score.compute(predictions=predictions[:, i], references=labels[:, i], average=\"macro\")['f1'])\n",
    "    average_wrongs = np.logical_xor(predictions, labels).sum(axis=1).mean()\n",
    "    return {'f1_average' : sum(f1s) / len(f1s), 'hamming_distance' : float(average_wrongs)}"
   ]
  },
  {
   "cell_type": "markdown",
   "metadata": {},
   "source": [
    "We then set some training arguments such as weight decay and saving and evaluation strategies. We also instatiate our custom `MultilabelTrainer`"
   ]
  },
  {
   "cell_type": "code",
   "execution_count": 14,
   "metadata": {},
   "outputs": [],
   "source": [
    "training_args = TrainingArguments(\n",
    "    output_dir=\"./esm_multilabel\",\n",
    "    learning_rate=1e-4,\n",
    "    per_device_train_batch_size=BATCH_SIZE,\n",
    "    per_device_eval_batch_size=BATCH_SIZE,\n",
    "    num_train_epochs=NUM_EPOCHS,\n",
    "    weight_decay=0.01,\n",
    "    evaluation_strategy=\"epoch\",\n",
    "    logging_strategy=\"epoch\",\n",
    "    save_strategy=\"epoch\",\n",
    "    save_total_limit=2,\n",
    "    #load_best_model_at_end=True,\n",
    "    report_to=\"none\",\n",
    "    logging_steps=1,\n",
    ")\n",
    "\n",
    "esm = ESMwithMultiClass()\n",
    "\n",
    "trainer = MultilabelTrainer( # can you belive that it drops columns that are not explicitly used by the model? damned huggingface \n",
    "        model=esm,\n",
    "        args=training_args,\n",
    "        train_dataset=ds[\"train\"],\n",
    "        eval_dataset=ds[\"test\"],\n",
    "        tokenizer=tokenizer,\n",
    "        data_collator=DataCollatorWithPadding(tokenizer=tokenizer),\n",
    "        compute_metrics=compute_metrics,\n",
    "    )"
   ]
  },
  {
   "cell_type": "markdown",
   "metadata": {},
   "source": [
    "We now proceed to train the model (typically we train a few epochs at a time, save then resume training)"
   ]
  },
  {
   "cell_type": "code",
   "execution_count": 15,
   "metadata": {},
   "outputs": [
    {
     "data": {
      "text/html": [
       "\n",
       "    <div>\n",
       "      \n",
       "      <progress value='64100' max='64100' style='width:300px; height:20px; vertical-align: middle;'></progress>\n",
       "      [64100/64100 39:04, Epoch 20/20]\n",
       "    </div>\n",
       "    <table border=\"1\" class=\"dataframe\">\n",
       "  <thead>\n",
       " <tr style=\"text-align: left;\">\n",
       "      <th>Epoch</th>\n",
       "      <th>Training Loss</th>\n",
       "      <th>Validation Loss</th>\n",
       "      <th>F1 Average</th>\n",
       "      <th>Hamming Distance</th>\n",
       "    </tr>\n",
       "  </thead>\n",
       "  <tbody>\n",
       "    <tr>\n",
       "      <td>16</td>\n",
       "      <td>0.065900</td>\n",
       "      <td>0.095776</td>\n",
       "      <td>0.687014</td>\n",
       "      <td>0.917005</td>\n",
       "    </tr>\n",
       "    <tr>\n",
       "      <td>17</td>\n",
       "      <td>0.033900</td>\n",
       "      <td>0.098796</td>\n",
       "      <td>0.704342</td>\n",
       "      <td>0.918877</td>\n",
       "    </tr>\n",
       "    <tr>\n",
       "      <td>18</td>\n",
       "      <td>0.024200</td>\n",
       "      <td>0.102625</td>\n",
       "      <td>0.714758</td>\n",
       "      <td>0.899844</td>\n",
       "    </tr>\n",
       "    <tr>\n",
       "      <td>19</td>\n",
       "      <td>0.018900</td>\n",
       "      <td>0.105940</td>\n",
       "      <td>0.714417</td>\n",
       "      <td>0.893604</td>\n",
       "    </tr>\n",
       "    <tr>\n",
       "      <td>20</td>\n",
       "      <td>0.015800</td>\n",
       "      <td>0.107446</td>\n",
       "      <td>0.723951</td>\n",
       "      <td>0.888300</td>\n",
       "    </tr>\n",
       "  </tbody>\n",
       "</table><p>"
      ],
      "text/plain": [
       "<IPython.core.display.HTML object>"
      ]
     },
     "metadata": {},
     "output_type": "display_data"
    },
    {
     "data": {
      "text/plain": [
       "TrainOutput(global_step=64100, training_loss=0.007934880844330453, metrics={'train_runtime': 2346.0169, 'train_samples_per_second': 109.266, 'train_steps_per_second': 27.323, 'total_flos': 0.0, 'train_loss': 0.007934880844330453, 'epoch': 20.0})"
      ]
     },
     "execution_count": 15,
     "metadata": {},
     "output_type": "execute_result"
    }
   ],
   "source": [
    "import os\n",
    "\n",
    "# this takes the last available checkpoint and resumes training from there\n",
    "trainer.train(resume_from_checkpoint=f\"esm_multilabel/{sorted(os.listdir('esm_multilabel'))[-1]}/\")"
   ]
  },
  {
   "cell_type": "markdown",
   "metadata": {},
   "source": [
    "As you can see from the columns \"F1 Average\" and \"Hamming Distance\", which are calculated on the test set, the models performs quite well.\n",
    "\n",
    "Of course with some hyperparameter tuning and more computational resources, so as to be able to use bigger models and more data, the results could be even more impressive\n",
    "\n",
    "We finally better quantify the model's performance by employing a multi-label confusion matrix, as described in [Heydarian et al, MLCM: Multi-Label Confusion Matrix](https://www.researchgate.net/publication/358509618_MLCM_Multi-Label_Confusion_Matrix). This is basically the equivalent of a normal confusion matrix but with an additional row and column to signify the absence of all other labels.\n",
    "\n",
    "On the y-axis we have the ground truth and on the x-axis we have the assigned label.\n",
    "\n",
    "As we can see from the matrix when the model fails it mostly assigns other (i.e. no label) to any given class. This is not surprising given the nature of the model, which is one-vs-all logistic regression."
   ]
  },
  {
   "cell_type": "code",
   "execution_count": 16,
   "metadata": {},
   "outputs": [
    {
     "data": {
      "text/html": [],
      "text/plain": [
       "<IPython.core.display.HTML object>"
      ]
     },
     "metadata": {},
     "output_type": "display_data"
    },
    {
     "data": {
      "text/plain": [
       "<AxesSubplot:>"
      ]
     },
     "execution_count": 16,
     "metadata": {},
     "output_type": "execute_result"
    },
    {
     "data": {
      "image/png": "[encoded data removed]",
      "text/plain": [
       "<Figure size 432x288 with 2 Axes>"
      ]
     },
     "metadata": {
      "needs_background": "light"
     },
     "output_type": "display_data"
    }
   ],
   "source": [
    "from mlcm import mlcm\n",
    "import seaborn as sns\n",
    "\n",
    "predictions, _, _ = trainer.predict(ds[\"test\"].select(range(50)))\n",
    "predictions = np.where(predictions > .5, 1, 0)\n",
    "references = np.array(ds[\"test\"].select(range(50))['labels'])\n",
    "\n",
    "conf_mat,normal_conf_mat = mlcm.cm(references, predictions, print_note=False)\n",
    "sns.heatmap(normal_conf_mat)"
   ]
  },
  {
   "cell_type": "markdown",
   "metadata": {},
   "source": [
    "It's interesting to note that, for example, two classes that are often confused are labels at index 19 and 27, which are the following"
   ]
  },
  {
   "cell_type": "code",
   "execution_count": 18,
   "metadata": {},
   "outputs": [
    {
     "data": {
      "text/plain": [
       "('catalytic activity, acting on DNA', 'catalytic activity, acting on RNA')"
      ]
     },
     "execution_count": 18,
     "metadata": {},
     "output_type": "execute_result"
    }
   ],
   "source": [
    "labels[19], labels[27]"
   ]
  },
  {
   "cell_type": "markdown",
   "metadata": {},
   "source": [
    "It's not surprising to see these two categories mixed up due to obvious reasons.\n",
    "\n",
    "Other classes often confused are the following. We lack expertise to ascertain their actual biochemical relatedness."
   ]
  },
  {
   "cell_type": "code",
   "execution_count": 19,
   "metadata": {},
   "outputs": [
    {
     "data": {
      "text/plain": [
       "('protein folding chaperone', 'ligase activity')"
      ]
     },
     "execution_count": 19,
     "metadata": {},
     "output_type": "execute_result"
    }
   ],
   "source": [
    "labels[12], labels[18]"
   ]
  },
  {
   "cell_type": "code",
   "execution_count": 20,
   "metadata": {},
   "outputs": [
    {
     "data": {
      "text/plain": [
       "('molecular adaptor activity', 'molecular function regulator activity')"
      ]
     },
     "execution_count": 20,
     "metadata": {},
     "output_type": "execute_result"
    }
   ],
   "source": [
    "labels[15], labels[36]"
   ]
  },
  {
   "cell_type": "markdown",
   "metadata": {},
   "source": []
  }
 ],
 "metadata": {
  "kernelspec": {
   "display_name": "Python 3",
   "language": "python",
   "name": "python3"
  },
  "language_info": {
   "codemirror_mode": {
    "name": "ipython",
    "version": 3
   },
   "file_extension": ".py",
   "mimetype": "text/x-python",
   "name": "python",
   "nbconvert_exporter": "python",
   "pygments_lexer": "ipython3",
   "version": "3.10.12"
  }
 },
 "nbformat": 4,
 "nbformat_minor": 2
}
