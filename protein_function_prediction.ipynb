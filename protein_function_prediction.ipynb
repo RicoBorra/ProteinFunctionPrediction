{
 "cells": [
  {
   "cell_type": "markdown",
   "metadata": {},
   "source": [
    "# Protein Function Prediction\n",
    "A simple but fun and instructive project"
   ]
  },
  {
   "cell_type": "markdown",
   "metadata": {},
   "source": [
    "## Protein Function Definition using Gene Ontology generic slim\n",
    "The first thing to do in order to develop a machine learning model to predict protein function is defining exactly what _protein function_ is.\n",
    "\n",
    "To do it we use the Gene Ontology framework, in which one of the three main categories is, in fact, \"molecular function\".\n",
    "\n",
    "Since the terms that are part of the \"molecular function\" category are too many we narrow down the prediction target by only considering the terms deemed \"molecular function\" in the GO generic slim subset of the Gene Ontology database.\n",
    "\n",
    "The code below creates a dictionary with keys that are the molecular function terms in the generic slim and the values which are the set of all the descendants in the complete GO graph.\n",
    "We use the python set data structure to obtain a $O(1)$ time complexity when checking if a term is part of it."
   ]
  },
  {
   "cell_type": "code",
   "execution_count": 1,
   "metadata": {},
   "outputs": [],
   "source": [
    "from ontobio.ontol_factory import OntologyFactory\n",
    "ont = OntologyFactory().create(\"go\")\n",
    "slim = OntologyFactory().create(\"goslim_generic.json\")\n",
    "\n",
    "MOLECULAR_FUNCTION = \"GO:0003674\"\n",
    "\n",
    "slim_go_terms = [el for el in list(slim.get_graph().nodes()) if el.startswith(\"GO\")] # get all GO terms in generic slim set\n",
    "molecular_functions = ont.descendants(MOLECULAR_FUNCTION) # get all molecular functions in GO\n",
    "slim_molecular_functions = list(set(slim_go_terms) & set(molecular_functions)) # take intersection between molecular functions and slim GO terms\n",
    "slim_molecular_functions_descendants = {el : set(ont.descendants(el)) for el in slim_molecular_functions} # get all descendants of the above"
   ]
  },
  {
   "cell_type": "markdown",
   "metadata": {},
   "source": [
    "## UniProt Database\n",
    "Now that we have a viable definition of what the prediction target is (in our case) we import the UniProt database.\n",
    "\n",
    "We started from a subset of it, namely the circa 20k human proteins, then we tried on a fraction of the whole reviewed proteins set.\n",
    "\n",
    "We have downloaded this subset as a tsv file, selecting only the columns of interest, seen below."
   ]
  },
  {
   "cell_type": "code",
   "execution_count": 2,
   "metadata": {},
   "outputs": [],
   "source": [
    "import pandas as pd\n",
    "import torch\n",
    "import numpy as np\n",
    "\n",
    "# this is a customized version of the UniProt database\n",
    "# the columns were chosen to minimize the size of the file while maintaining useful information\n",
    "#df = pd.read_csv(\"uniprotkb_reviewed_true_AND_model_organ_2023_12_29.tsv\", sep=\"\\t\") # only human, around 20k proteins\n",
    "df = pd.read_csv(\"uniprotkb_reviewed_true_2024_01_01.tsv\", sep=\"\\t\") # all reviewed proteins, circa 500k\n",
    "df = df[~df['Gene Ontology (GO)'].isna()] # remove the ones without GO annotations"
   ]
  },
  {
   "cell_type": "code",
   "execution_count": 3,
   "metadata": {},
   "outputs": [
    {
     "data": {
      "text/html": [
       "<div>\n",
       "<style scoped>\n",
       "    .dataframe tbody tr th:only-of-type {\n",
       "        vertical-align: middle;\n",
       "    }\n",
       "\n",
       "    .dataframe tbody tr th {\n",
       "        vertical-align: top;\n",
       "    }\n",
       "\n",
       "    .dataframe thead th {\n",
       "        text-align: right;\n",
       "    }\n",
       "</style>\n",
       "<table border=\"1\" class=\"dataframe\">\n",
       "  <thead>\n",
       "    <tr style=\"text-align: right;\">\n",
       "      <th></th>\n",
       "      <th>Entry</th>\n",
       "      <th>Entry Name</th>\n",
       "      <th>Protein names</th>\n",
       "      <th>Gene Names</th>\n",
       "      <th>Organism</th>\n",
       "      <th>Length</th>\n",
       "      <th>Sequence</th>\n",
       "      <th>Gene Ontology (biological process)</th>\n",
       "      <th>Gene Ontology (molecular function)</th>\n",
       "      <th>Gene Ontology (cellular component)</th>\n",
       "      <th>Gene Ontology (GO)</th>\n",
       "      <th>Gene Ontology IDs</th>\n",
       "    </tr>\n",
       "  </thead>\n",
       "  <tbody>\n",
       "    <tr>\n",
       "      <th>0</th>\n",
       "      <td>A0A009IHW8</td>\n",
       "      <td>ABTIR_ACIB9</td>\n",
       "      <td>2' cyclic ADP-D-ribose synthase AbTIR (2'cADPR...</td>\n",
       "      <td>J512_3302</td>\n",
       "      <td>Acinetobacter baumannii (strain 1295743)</td>\n",
       "      <td>269</td>\n",
       "      <td>MSLEQKKGADIISKILQIQNSIGKTTSPSTLKTKLSEISRKEQENA...</td>\n",
       "      <td>NAD catabolic process [GO:0019677]; signal tra...</td>\n",
       "      <td>NAD(P)+ nucleosidase activity [GO:0050135]; NA...</td>\n",
       "      <td>NaN</td>\n",
       "      <td>NAD(P)+ nucleosidase activity [GO:0050135]; NA...</td>\n",
       "      <td>GO:0003953; GO:0007165; GO:0019677; GO:0050135...</td>\n",
       "    </tr>\n",
       "    <tr>\n",
       "      <th>1</th>\n",
       "      <td>A0A023I7E1</td>\n",
       "      <td>ENG1_RHIMI</td>\n",
       "      <td>Glucan endo-1,3-beta-D-glucosidase 1 (Endo-1,3...</td>\n",
       "      <td>ENG1 LAM81A</td>\n",
       "      <td>Rhizomucor miehei</td>\n",
       "      <td>796</td>\n",
       "      <td>MRFQVIVAAATITMITSYIPGVASQSTSDGDDLFVPVSNFDPKSIF...</td>\n",
       "      <td>cell wall organization [GO:0071555]; polysacch...</td>\n",
       "      <td>glucan endo-1,3-beta-D-glucosidase activity [G...</td>\n",
       "      <td>extracellular region [GO:0005576]</td>\n",
       "      <td>extracellular region [GO:0005576]; glucan endo...</td>\n",
       "      <td>GO:0000272; GO:0005576; GO:0042973; GO:0052861...</td>\n",
       "    </tr>\n",
       "    <tr>\n",
       "      <th>2</th>\n",
       "      <td>A0A024B7W1</td>\n",
       "      <td>POLG_ZIKVF</td>\n",
       "      <td>Genome polyprotein [Cleaved into: Capsid prote...</td>\n",
       "      <td>NaN</td>\n",
       "      <td>Zika virus (isolate ZIKV/Human/French Polynesi...</td>\n",
       "      <td>3423</td>\n",
       "      <td>MKNPKKKSGGFRIVNMLKRGVARVSPFGGLKRLPAGLLLGHGPIRM...</td>\n",
       "      <td>clathrin-dependent endocytosis of virus by hos...</td>\n",
       "      <td>4 iron, 4 sulfur cluster binding [GO:0051539];...</td>\n",
       "      <td>centrosome [GO:0005813]; extracellular region ...</td>\n",
       "      <td>centrosome [GO:0005813]; extracellular region ...</td>\n",
       "      <td>GO:0003724; GO:0003725; GO:0003968; GO:0004252...</td>\n",
       "    </tr>\n",
       "    <tr>\n",
       "      <th>3</th>\n",
       "      <td>A0A024SC78</td>\n",
       "      <td>CUTI1_HYPJR</td>\n",
       "      <td>Cutinase (EC 3.1.1.74)</td>\n",
       "      <td>M419DRAFT_76732</td>\n",
       "      <td>Hypocrea jecorina (strain ATCC 56765 / BCRC 32...</td>\n",
       "      <td>248</td>\n",
       "      <td>MRSLAILTTLLAGHAFAYPKPAPQSVNRRDWPSINEFLSELAKVMP...</td>\n",
       "      <td>NaN</td>\n",
       "      <td>cutinase activity [GO:0050525]</td>\n",
       "      <td>extracellular region [GO:0005576]</td>\n",
       "      <td>extracellular region [GO:0005576]; cutinase ac...</td>\n",
       "      <td>GO:0005576; GO:0050525</td>\n",
       "    </tr>\n",
       "    <tr>\n",
       "      <th>4</th>\n",
       "      <td>A0A024SH76</td>\n",
       "      <td>GUX2_HYPJR</td>\n",
       "      <td>Exoglucanase 2 (EC 3.2.1.91) (1,4-beta-cellobi...</td>\n",
       "      <td>cbh2 M419DRAFT_122470</td>\n",
       "      <td>Hypocrea jecorina (strain ATCC 56765 / BCRC 32...</td>\n",
       "      <td>471</td>\n",
       "      <td>MIVGILTTLATLATLAASVPLEERQACSSVWGQCGGQNWSGPTCCA...</td>\n",
       "      <td>cellulose catabolic process [GO:0030245]</td>\n",
       "      <td>cellulose 1,4-beta-cellobiosidase activity [GO...</td>\n",
       "      <td>extracellular region [GO:0005576]</td>\n",
       "      <td>extracellular region [GO:0005576]; cellulose 1...</td>\n",
       "      <td>GO:0005576; GO:0016162; GO:0030245; GO:0030248</td>\n",
       "    </tr>\n",
       "  </tbody>\n",
       "</table>\n",
       "</div>"
      ],
      "text/plain": [
       "        Entry   Entry Name                                      Protein names  \\\n",
       "0  A0A009IHW8  ABTIR_ACIB9  2' cyclic ADP-D-ribose synthase AbTIR (2'cADPR...   \n",
       "1  A0A023I7E1   ENG1_RHIMI  Glucan endo-1,3-beta-D-glucosidase 1 (Endo-1,3...   \n",
       "2  A0A024B7W1   POLG_ZIKVF  Genome polyprotein [Cleaved into: Capsid prote...   \n",
       "3  A0A024SC78  CUTI1_HYPJR                             Cutinase (EC 3.1.1.74)   \n",
       "4  A0A024SH76   GUX2_HYPJR  Exoglucanase 2 (EC 3.2.1.91) (1,4-beta-cellobi...   \n",
       "\n",
       "              Gene Names                                           Organism  \\\n",
       "0              J512_3302           Acinetobacter baumannii (strain 1295743)   \n",
       "1            ENG1 LAM81A                                  Rhizomucor miehei   \n",
       "2                    NaN  Zika virus (isolate ZIKV/Human/French Polynesi...   \n",
       "3        M419DRAFT_76732  Hypocrea jecorina (strain ATCC 56765 / BCRC 32...   \n",
       "4  cbh2 M419DRAFT_122470  Hypocrea jecorina (strain ATCC 56765 / BCRC 32...   \n",
       "\n",
       "   Length                                           Sequence  \\\n",
       "0     269  MSLEQKKGADIISKILQIQNSIGKTTSPSTLKTKLSEISRKEQENA...   \n",
       "1     796  MRFQVIVAAATITMITSYIPGVASQSTSDGDDLFVPVSNFDPKSIF...   \n",
       "2    3423  MKNPKKKSGGFRIVNMLKRGVARVSPFGGLKRLPAGLLLGHGPIRM...   \n",
       "3     248  MRSLAILTTLLAGHAFAYPKPAPQSVNRRDWPSINEFLSELAKVMP...   \n",
       "4     471  MIVGILTTLATLATLAASVPLEERQACSSVWGQCGGQNWSGPTCCA...   \n",
       "\n",
       "                  Gene Ontology (biological process)  \\\n",
       "0  NAD catabolic process [GO:0019677]; signal tra...   \n",
       "1  cell wall organization [GO:0071555]; polysacch...   \n",
       "2  clathrin-dependent endocytosis of virus by hos...   \n",
       "3                                                NaN   \n",
       "4           cellulose catabolic process [GO:0030245]   \n",
       "\n",
       "                  Gene Ontology (molecular function)  \\\n",
       "0  NAD(P)+ nucleosidase activity [GO:0050135]; NA...   \n",
       "1  glucan endo-1,3-beta-D-glucosidase activity [G...   \n",
       "2  4 iron, 4 sulfur cluster binding [GO:0051539];...   \n",
       "3                     cutinase activity [GO:0050525]   \n",
       "4  cellulose 1,4-beta-cellobiosidase activity [GO...   \n",
       "\n",
       "                  Gene Ontology (cellular component)  \\\n",
       "0                                                NaN   \n",
       "1                  extracellular region [GO:0005576]   \n",
       "2  centrosome [GO:0005813]; extracellular region ...   \n",
       "3                  extracellular region [GO:0005576]   \n",
       "4                  extracellular region [GO:0005576]   \n",
       "\n",
       "                                  Gene Ontology (GO)  \\\n",
       "0  NAD(P)+ nucleosidase activity [GO:0050135]; NA...   \n",
       "1  extracellular region [GO:0005576]; glucan endo...   \n",
       "2  centrosome [GO:0005813]; extracellular region ...   \n",
       "3  extracellular region [GO:0005576]; cutinase ac...   \n",
       "4  extracellular region [GO:0005576]; cellulose 1...   \n",
       "\n",
       "                                   Gene Ontology IDs  \n",
       "0  GO:0003953; GO:0007165; GO:0019677; GO:0050135...  \n",
       "1  GO:0000272; GO:0005576; GO:0042973; GO:0052861...  \n",
       "2  GO:0003724; GO:0003725; GO:0003968; GO:0004252...  \n",
       "3                             GO:0005576; GO:0050525  \n",
       "4     GO:0005576; GO:0016162; GO:0030245; GO:0030248  "
      ]
     },
     "execution_count": 3,
     "metadata": {},
     "output_type": "execute_result"
    }
   ],
   "source": [
    "df = df[~df['Gene Ontology (molecular function)'].isna()] # remove the ones without GO annotations for molecular function\n",
    "df.head()"
   ]
  },
  {
   "cell_type": "markdown",
   "metadata": {},
   "source": [
    "We plot a histogram of the frequency of various sequence lengths in the database, we ascertain that most of the proteins have length below 1024, this information will be useful later on"
   ]
  },
  {
   "cell_type": "code",
   "execution_count": 4,
   "metadata": {},
   "outputs": [
    {
     "data": {
      "text/plain": [
       "<AxesSubplot:>"
      ]
     },
     "execution_count": 4,
     "metadata": {},
     "output_type": "execute_result"
    },
    {
     "data": {
      "image/png": "[encoded data removed]",
      "text/plain": [
       "<Figure size 432x288 with 1 Axes>"
      ]
     },
     "metadata": {
      "needs_background": "light"
     },
     "output_type": "display_data"
    }
   ],
   "source": [
    "df[df['Length'] < 4000]['Length'].hist(bins=100) # below 4k, i.e. removing outliers"
   ]
  },
  {
   "cell_type": "markdown",
   "metadata": {},
   "source": [
    "Now we do some data wrangling, in order to obtain a viable multilabel type DataFrame.\n",
    "\n",
    "We first generate a list of the molecular functions (that are still relative to the full GO database).\n",
    "\n",
    "We then assign `True` to every label of the generic slim GO subset if one of the labels we obtained above is its descendant.\n",
    "\n",
    "We then visualize the resulting `DataFrame`."
   ]
  },
  {
   "cell_type": "code",
   "execution_count": 5,
   "metadata": {},
   "outputs": [],
   "source": [
    "df['Gene Ontology (molecular function)'] = df['Gene Ontology (molecular function)']\\\n",
    "                                            .apply(lambda x: x.split(\";\")).apply(lambda x: [el[el.index(\"[GO\")+1:-1] for el in x])"
   ]
  },
  {
   "cell_type": "code",
   "execution_count": 6,
   "metadata": {},
   "outputs": [],
   "source": [
    "for k in slim_molecular_functions:\n",
    "    df[ont.node(k)['label']] = df['Gene Ontology (molecular function)']\\\n",
    "                                .apply(lambda x: max([True if el in slim_molecular_functions_descendants[k] else False for el in x]))"
   ]
  },
  {
   "cell_type": "code",
   "execution_count": 7,
   "metadata": {},
   "outputs": [
    {
     "data": {
      "text/html": [
       "<div>\n",
       "<style scoped>\n",
       "    .dataframe tbody tr th:only-of-type {\n",
       "        vertical-align: middle;\n",
       "    }\n",
       "\n",
       "    .dataframe tbody tr th {\n",
       "        vertical-align: top;\n",
       "    }\n",
       "\n",
       "    .dataframe thead th {\n",
       "        text-align: right;\n",
       "    }\n",
       "</style>\n",
       "<table border=\"1\" class=\"dataframe\">\n",
       "  <thead>\n",
       "    <tr style=\"text-align: right;\">\n",
       "      <th></th>\n",
       "      <th>Sequence</th>\n",
       "      <th>cargo receptor activity</th>\n",
       "      <th>cell adhesion mediator activity</th>\n",
       "      <th>molecular carrier activity</th>\n",
       "      <th>catalytic activity, acting on DNA</th>\n",
       "      <th>cyclase activity</th>\n",
       "      <th>molecular transducer activity</th>\n",
       "      <th>lyase activity</th>\n",
       "      <th>transcription regulator activity</th>\n",
       "      <th>ATP-dependent activity</th>\n",
       "      <th>...</th>\n",
       "      <th>general transcription initiation factor activity</th>\n",
       "      <th>hydrolase activity</th>\n",
       "      <th>molecular sequestering activity</th>\n",
       "      <th>oxidoreductase activity</th>\n",
       "      <th>histone binding</th>\n",
       "      <th>catalytic activity</th>\n",
       "      <th>virus receptor activity</th>\n",
       "      <th>virus coreceptor activity</th>\n",
       "      <th>transporter activity</th>\n",
       "      <th>toxin activity</th>\n",
       "    </tr>\n",
       "  </thead>\n",
       "  <tbody>\n",
       "    <tr>\n",
       "      <th>0</th>\n",
       "      <td>MSLEQKKGADIISKILQIQNSIGKTTSPSTLKTKLSEISRKEQENA...</td>\n",
       "      <td>False</td>\n",
       "      <td>False</td>\n",
       "      <td>False</td>\n",
       "      <td>False</td>\n",
       "      <td>True</td>\n",
       "      <td>False</td>\n",
       "      <td>False</td>\n",
       "      <td>False</td>\n",
       "      <td>False</td>\n",
       "      <td>...</td>\n",
       "      <td>False</td>\n",
       "      <td>True</td>\n",
       "      <td>False</td>\n",
       "      <td>False</td>\n",
       "      <td>False</td>\n",
       "      <td>True</td>\n",
       "      <td>False</td>\n",
       "      <td>False</td>\n",
       "      <td>False</td>\n",
       "      <td>False</td>\n",
       "    </tr>\n",
       "    <tr>\n",
       "      <th>1</th>\n",
       "      <td>MRFQVIVAAATITMITSYIPGVASQSTSDGDDLFVPVSNFDPKSIF...</td>\n",
       "      <td>False</td>\n",
       "      <td>False</td>\n",
       "      <td>False</td>\n",
       "      <td>False</td>\n",
       "      <td>False</td>\n",
       "      <td>False</td>\n",
       "      <td>False</td>\n",
       "      <td>False</td>\n",
       "      <td>False</td>\n",
       "      <td>...</td>\n",
       "      <td>False</td>\n",
       "      <td>True</td>\n",
       "      <td>False</td>\n",
       "      <td>False</td>\n",
       "      <td>False</td>\n",
       "      <td>True</td>\n",
       "      <td>False</td>\n",
       "      <td>False</td>\n",
       "      <td>False</td>\n",
       "      <td>False</td>\n",
       "    </tr>\n",
       "    <tr>\n",
       "      <th>2</th>\n",
       "      <td>MKNPKKKSGGFRIVNMLKRGVARVSPFGGLKRLPAGLLLGHGPIRM...</td>\n",
       "      <td>False</td>\n",
       "      <td>False</td>\n",
       "      <td>False</td>\n",
       "      <td>False</td>\n",
       "      <td>False</td>\n",
       "      <td>False</td>\n",
       "      <td>False</td>\n",
       "      <td>False</td>\n",
       "      <td>True</td>\n",
       "      <td>...</td>\n",
       "      <td>False</td>\n",
       "      <td>True</td>\n",
       "      <td>False</td>\n",
       "      <td>False</td>\n",
       "      <td>False</td>\n",
       "      <td>True</td>\n",
       "      <td>False</td>\n",
       "      <td>False</td>\n",
       "      <td>False</td>\n",
       "      <td>False</td>\n",
       "    </tr>\n",
       "    <tr>\n",
       "      <th>3</th>\n",
       "      <td>MRSLAILTTLLAGHAFAYPKPAPQSVNRRDWPSINEFLSELAKVMP...</td>\n",
       "      <td>False</td>\n",
       "      <td>False</td>\n",
       "      <td>False</td>\n",
       "      <td>False</td>\n",
       "      <td>False</td>\n",
       "      <td>False</td>\n",
       "      <td>False</td>\n",
       "      <td>False</td>\n",
       "      <td>False</td>\n",
       "      <td>...</td>\n",
       "      <td>False</td>\n",
       "      <td>True</td>\n",
       "      <td>False</td>\n",
       "      <td>False</td>\n",
       "      <td>False</td>\n",
       "      <td>True</td>\n",
       "      <td>False</td>\n",
       "      <td>False</td>\n",
       "      <td>False</td>\n",
       "      <td>False</td>\n",
       "    </tr>\n",
       "    <tr>\n",
       "      <th>4</th>\n",
       "      <td>MIVGILTTLATLATLAASVPLEERQACSSVWGQCGGQNWSGPTCCA...</td>\n",
       "      <td>False</td>\n",
       "      <td>False</td>\n",
       "      <td>False</td>\n",
       "      <td>False</td>\n",
       "      <td>False</td>\n",
       "      <td>False</td>\n",
       "      <td>False</td>\n",
       "      <td>False</td>\n",
       "      <td>False</td>\n",
       "      <td>...</td>\n",
       "      <td>False</td>\n",
       "      <td>True</td>\n",
       "      <td>False</td>\n",
       "      <td>False</td>\n",
       "      <td>False</td>\n",
       "      <td>True</td>\n",
       "      <td>False</td>\n",
       "      <td>False</td>\n",
       "      <td>False</td>\n",
       "      <td>False</td>\n",
       "    </tr>\n",
       "  </tbody>\n",
       "</table>\n",
       "<p>5 rows × 41 columns</p>\n",
       "</div>"
      ],
      "text/plain": [
       "                                            Sequence  cargo receptor activity  \\\n",
       "0  MSLEQKKGADIISKILQIQNSIGKTTSPSTLKTKLSEISRKEQENA...                    False   \n",
       "1  MRFQVIVAAATITMITSYIPGVASQSTSDGDDLFVPVSNFDPKSIF...                    False   \n",
       "2  MKNPKKKSGGFRIVNMLKRGVARVSPFGGLKRLPAGLLLGHGPIRM...                    False   \n",
       "3  MRSLAILTTLLAGHAFAYPKPAPQSVNRRDWPSINEFLSELAKVMP...                    False   \n",
       "4  MIVGILTTLATLATLAASVPLEERQACSSVWGQCGGQNWSGPTCCA...                    False   \n",
       "\n",
       "   cell adhesion mediator activity  molecular carrier activity  \\\n",
       "0                            False                       False   \n",
       "1                            False                       False   \n",
       "2                            False                       False   \n",
       "3                            False                       False   \n",
       "4                            False                       False   \n",
       "\n",
       "   catalytic activity, acting on DNA  cyclase activity  \\\n",
       "0                              False              True   \n",
       "1                              False             False   \n",
       "2                              False             False   \n",
       "3                              False             False   \n",
       "4                              False             False   \n",
       "\n",
       "   molecular transducer activity  lyase activity  \\\n",
       "0                          False           False   \n",
       "1                          False           False   \n",
       "2                          False           False   \n",
       "3                          False           False   \n",
       "4                          False           False   \n",
       "\n",
       "   transcription regulator activity  ATP-dependent activity  ...  \\\n",
       "0                             False                   False  ...   \n",
       "1                             False                   False  ...   \n",
       "2                             False                    True  ...   \n",
       "3                             False                   False  ...   \n",
       "4                             False                   False  ...   \n",
       "\n",
       "   general transcription initiation factor activity  hydrolase activity  \\\n",
       "0                                             False                True   \n",
       "1                                             False                True   \n",
       "2                                             False                True   \n",
       "3                                             False                True   \n",
       "4                                             False                True   \n",
       "\n",
       "   molecular sequestering activity  oxidoreductase activity  histone binding  \\\n",
       "0                            False                    False            False   \n",
       "1                            False                    False            False   \n",
       "2                            False                    False            False   \n",
       "3                            False                    False            False   \n",
       "4                            False                    False            False   \n",
       "\n",
       "   catalytic activity  virus receptor activity  virus coreceptor activity  \\\n",
       "0                True                    False                      False   \n",
       "1                True                    False                      False   \n",
       "2                True                    False                      False   \n",
       "3                True                    False                      False   \n",
       "4                True                    False                      False   \n",
       "\n",
       "   transporter activity  toxin activity  \n",
       "0                 False           False  \n",
       "1                 False           False  \n",
       "2                 False           False  \n",
       "3                 False           False  \n",
       "4                 False           False  \n",
       "\n",
       "[5 rows x 41 columns]"
      ]
     },
     "execution_count": 7,
     "metadata": {},
     "output_type": "execute_result"
    }
   ],
   "source": [
    "ohe_df = df.drop(columns=['Entry', 'Entry Name', 'Protein names', 'Gene Names', 'Organism',\n",
    "                            'Length', 'Gene Ontology (molecular function)',\n",
    "                            'Gene Ontology (cellular component)',\n",
    "                            'Gene Ontology (biological process)', 'Gene Ontology IDs',\n",
    "                            'Gene Ontology (GO)'])\n",
    "ohe_df.head()"
   ]
  },
  {
   "cell_type": "markdown",
   "metadata": {},
   "source": [
    "Lastly, we create a `labels` variable that we can use later to get back from the generic vectorial representation of the labels.\n",
    "\n",
    "We also create said vectorial label representation, which we can then feed to a machine learning model"
   ]
  },
  {
   "cell_type": "code",
   "execution_count": 8,
   "metadata": {},
   "outputs": [],
   "source": [
    "labels = ohe_df.drop(columns=[\"Sequence\"]).columns\n",
    "X = df[labels].to_numpy().astype(np.float32)\n",
    "l = []\n",
    "for i in range(X.shape[0]):\n",
    "    l.append(torch.tensor(X[i,:]))"
   ]
  },
  {
   "cell_type": "markdown",
   "metadata": {},
   "source": [
    "# LLM Fine Tuning (using a Logistic Regression as Classification Head)\n",
    "This way we take advantage of Logistic Regression multivariate response and perform independent classification of all the various classes while having the gradients all flow through the same model, so as to obtain a better latent space representation of the various sequences.\n",
    "\n",
    "First we create a `Dataset` object with the vectorial representation of the labels and the relative sequence, then we shuffle (using a seed, 42) and split it in train and test partitions. We use only 1/4 of the reviewed proteins available at UniProt due to runtime issues (training taking too long)."
   ]
  },
  {
   "cell_type": "code",
   "execution_count": 9,
   "metadata": {},
   "outputs": [
    {
     "data": {
      "text/plain": [
       "DatasetDict({\n",
       "    train: Dataset({\n",
       "        features: ['labels', 'sequence'],\n",
       "        num_rows: 96816\n",
       "    })\n",
       "    test: Dataset({\n",
       "        features: ['labels', 'sequence'],\n",
       "        num_rows: 24204\n",
       "    })\n",
       "})"
      ]
     },
     "execution_count": 9,
     "metadata": {},
     "output_type": "execute_result"
    }
   ],
   "source": [
    "from datasets import Dataset\n",
    "\n",
    "ds = Dataset.from_dict({\"labels\": l, \"sequence\" : df['Sequence']})\n",
    "ds = ds.shuffle(seed=42).train_test_split(test_size=0.2, seed=42) # both shuffle and split need seed to guarentee determinism, that we need to do training some epochs at a time\n",
    "ds['train'] = ds['train'].select(range(int(len(ds['train']) / 4))) # otherwise too big \n",
    "ds['test'] = ds['test'].select(range(int(len(ds['test']) / 4))) # otherwise too big\n",
    "ds"
   ]
  },
  {
   "cell_type": "markdown",
   "metadata": {},
   "source": [
    "We instantiate a pre-trained model, ESM, found at https://huggingface.co/docs/transformers/model_doc/esm\n",
    "\n",
    "It's a transformer based architecture pre-trained on a classical masked language modeling task (predict a given token, in this case an amminoacid in a sequence, given the surrounding context) employing the famous self-attention mechanism.\n",
    "\n",
    "Given the scarce computational resources at our disposal we use the version of the model with 8 million parameters, although this architecture can go up to 15 billion, which would undoubtedly perform better (having 200x the amount of parameters)."
   ]
  },
  {
   "cell_type": "code",
   "execution_count": 10,
   "metadata": {},
   "outputs": [
    {
     "name": "stderr",
     "output_type": "stream",
     "text": [
      "Some weights of EsmModel were not initialized from the model checkpoint at facebook/esm2_t6_8M_UR50D and are newly initialized: ['esm.pooler.dense.bias', 'esm.pooler.dense.weight']\n",
      "You should probably TRAIN this model on a down-stream task to be able to use it for predictions and inference.\n"
     ]
    }
   ],
   "source": [
    "from transformers import AutoTokenizer, EsmModel\n",
    "import torch\n",
    "import os\n",
    "\n",
    "os.environ['TOKENIZERS_PARALLELISM'] = \"false\"\n",
    "os.environ[\"WANDB_DISABLED\"] = \"true\" # disable remote logging\n",
    "\n",
    "checkpoint = \"facebook/esm2_t6_8M_UR50D\"\n",
    "\n",
    "BATCH_SIZE = 3\n",
    "NUM_EPOCHS = 6\n",
    "\n",
    "tokenizer = AutoTokenizer.from_pretrained(checkpoint)\n",
    "model = EsmModel.from_pretrained(checkpoint)"
   ]
  },
  {
   "cell_type": "markdown",
   "metadata": {},
   "source": [
    "We tokenize the sequences. As is typical in LLM finetuning we \"freeze\" the tokenizer, i.e. we do not train the model that produces the embeddings of single tokens but only the language model afterwards which \"shifts\" the vector representation of the token depending on the surrounding ones.\n",
    "\n",
    "This model can only handle an input length of 1024 tokens/amminoacids, we therefore truncate everything after this threshold. We have verified before that it will not lose too much information since most proteins are shorter."
   ]
  },
  {
   "cell_type": "code",
   "execution_count": 11,
   "metadata": {},
   "outputs": [
    {
     "data": {
      "application/vnd.jupyter.widget-view+json": {
       "model_id": "c608db8e17d34e069b437778d80d0917",
       "version_major": 2,
       "version_minor": 0
      },
      "text/plain": [
       "Map:   0%|          | 0/96816 [00:00<?, ? examples/s]"
      ]
     },
     "metadata": {},
     "output_type": "display_data"
    },
    {
     "data": {
      "application/vnd.jupyter.widget-view+json": {
       "model_id": "65ccecce025b47cca4ab77f6b6b85b16",
       "version_major": 2,
       "version_minor": 0
      },
      "text/plain": [
       "Map:   0%|          | 0/24204 [00:00<?, ? examples/s]"
      ]
     },
     "metadata": {},
     "output_type": "display_data"
    },
    {
     "data": {
      "text/plain": [
       "DatasetDict({\n",
       "    train: Dataset({\n",
       "        features: ['labels', 'input_ids', 'attention_mask'],\n",
       "        num_rows: 96816\n",
       "    })\n",
       "    test: Dataset({\n",
       "        features: ['labels', 'input_ids', 'attention_mask'],\n",
       "        num_rows: 24204\n",
       "    })\n",
       "})"
      ]
     },
     "execution_count": 11,
     "metadata": {},
     "output_type": "execute_result"
    }
   ],
   "source": [
    "def preprocess_tokenize(mapped_ds):\n",
    "    return tokenizer(mapped_ds['sequence'], truncation=True, max_length=1024)\n",
    "\n",
    "ds = ds.map(preprocess_tokenize)\n",
    "ds = ds.remove_columns(\"sequence\")\n",
    "ds"
   ]
  },
  {
   "cell_type": "markdown",
   "metadata": {},
   "source": [
    "Now we add to the ESM encoder a custom multilabel classification head: the component we call `self.clf` in the model definition.\n",
    "\n",
    "We create a subclass of the `torch.nn.Module` class for this purpose.\n",
    "\n",
    "Moreover we need to define a `MultilabelTrainer` which is a subclass of Huggingface's `transformers.Trainer` base class. Here we need to override the `compute_loss` method to adapt the `BCELoss` to the multilabel use case."
   ]
  },
  {
   "cell_type": "code",
   "execution_count": 12,
   "metadata": {},
   "outputs": [],
   "source": [
    "import torch.nn as nn\n",
    "from transformers import Trainer, TrainingArguments\n",
    "\n",
    "class ESMwithMultiClass(nn.Module):\n",
    "    def __init__(self, num_labels=40):\n",
    "        super().__init__()\n",
    "        self.llm = model\n",
    "        self.num_labels = num_labels\n",
    "        self.clf = nn.Sequential(\n",
    "            nn.Flatten(),\n",
    "            nn.Dropout(0.2),\n",
    "            nn.Linear(in_features=model.pooler.dense.in_features, out_features=self.num_labels),\n",
    "            nn.Sigmoid()\n",
    "        )\n",
    "\n",
    "    def forward(self, input_ids, attention_mask, labels=None): # need to return a dict otherwise HF skips first pred when evaluating, god knows why, I had to figure it out from the source code smh \n",
    "        return {'logits': self.clf(self.llm(input_ids, attention_mask).pooler_output)} \n",
    "    \n",
    "class MultilabelTrainer(Trainer):\n",
    "    def compute_loss(self, model, inputs, return_outputs=False):\n",
    "        labels = inputs.get(\"labels\")\n",
    "        outputs = model(**inputs)\n",
    "        logits = outputs['logits']\n",
    "        loss_fct = nn.BCELoss()\n",
    "        loss = loss_fct(logits.view(-1, self.model.num_labels),\n",
    "                        labels.float().view(-1, self.model.num_labels))\n",
    "        loss = loss.mean()\n",
    "        return (loss, outputs) if return_outputs else loss"
   ]
  },
  {
   "cell_type": "markdown",
   "metadata": {},
   "source": [
    "Lastly, we define some metrics in the `compute_metrics` function. Since this is a multilabel problem some thought must be put in defining them. Especially considering that we are training what are basically multiple one-vs-all classifiers, therefore most of the predictions will be 0 for everyone of those.\n",
    "\n",
    "We thus an _F1_ score that is the average of the macro aggregate F1 scores for the various classes (like \"DNA binding yes/no\") on their own.\n",
    "\n",
    "We also define a Hamming distance which we then average (implemented with a logical xor since the predictions are taken from a binary alphabet).\n",
    "It has a nice interpretation: the average number of wrong predictions (be they false negative or false positive) per sample, out of 40 total."
   ]
  },
  {
   "cell_type": "code",
   "execution_count": 13,
   "metadata": {},
   "outputs": [],
   "source": [
    "import evaluate\n",
    "from transformers import DataCollatorWithPadding\n",
    "from typing import List, Dict, Any\n",
    "\n",
    "def compute_metrics(eval_pred):\n",
    "    f1_score = evaluate.load(\"f1\")\n",
    "    predictions, labels = eval_pred\n",
    "    predictions = np.where(predictions > 0.5, 1, 0)\n",
    "    labels = np.where(labels > 0.5, 1, 0)\n",
    "    f1s = []\n",
    "    for i in range(40):\n",
    "        f1s.append(f1_score.compute(predictions=predictions[:, i], references=labels[:, i], average=\"macro\")['f1'])\n",
    "    average_wrongs = np.logical_xor(predictions, labels).sum(axis=1).mean()\n",
    "    return {'f1_average' : sum(f1s) / len(f1s), 'hamming_distance' : float(average_wrongs)}"
   ]
  },
  {
   "cell_type": "markdown",
   "metadata": {},
   "source": [
    "We then set some training arguments such as weight decay and saving and evaluation strategies. We also instatiate our custom `MultilabelTrainer`"
   ]
  },
  {
   "cell_type": "code",
   "execution_count": 14,
   "metadata": {},
   "outputs": [],
   "source": [
    "training_args = TrainingArguments(\n",
    "    output_dir=\"./esm_multilabel\",\n",
    "    learning_rate=3e-4,\n",
    "    per_device_train_batch_size=BATCH_SIZE,\n",
    "    per_device_eval_batch_size=BATCH_SIZE,\n",
    "    num_train_epochs=NUM_EPOCHS,\n",
    "    weight_decay=0.01,\n",
    "    evaluation_strategy=\"epoch\",\n",
    "    logging_strategy=\"epoch\",\n",
    "    save_strategy=\"epoch\",\n",
    "    save_total_limit=2,\n",
    "    load_best_model_at_end=True,\n",
    "    report_to=\"none\",\n",
    "    logging_steps=1,\n",
    ")\n",
    "\n",
    "trainer = MultilabelTrainer( # can you believe that it drops columns that are not explicitly used by the model? damned huggingface \n",
    "        model=ESMwithMultiClass(),\n",
    "        args=training_args,\n",
    "        train_dataset=ds[\"train\"],\n",
    "        eval_dataset=ds[\"test\"],\n",
    "        tokenizer=tokenizer,\n",
    "        data_collator=DataCollatorWithPadding(tokenizer=tokenizer),\n",
    "        compute_metrics=compute_metrics,\n",
    "    )"
   ]
  },
  {
   "cell_type": "markdown",
   "metadata": {},
   "source": [
    "We run an evaluation round to ensure everything runs smoothly (i.e. expected Hamming distance is roughly 20 since weights of classification head are randomly initialized). \n",
    "\n",
    "We then proceed with the actual training of the model."
   ]
  },
  {
   "cell_type": "code",
   "execution_count": 15,
   "metadata": {},
   "outputs": [
    {
     "data": {
      "text/html": [
       "\n",
       "    <div>\n",
       "      \n",
       "      <progress value='16136' max='8068' style='width:300px; height:20px; vertical-align: middle;'></progress>\n",
       "      [8068/8068 43:33]\n",
       "    </div>\n",
       "    "
      ],
      "text/plain": [
       "<IPython.core.display.HTML object>"
      ]
     },
     "metadata": {},
     "output_type": "display_data"
    },
    {
     "data": {
      "text/plain": [
       "{'eval_loss': 0.689273476600647,\n",
       " 'eval_f1_average': 0.31015300046110755,\n",
       " 'eval_hamming_distance': 18.737729300941993,\n",
       " 'eval_runtime': 329.3768,\n",
       " 'eval_samples_per_second': 73.484,\n",
       " 'eval_steps_per_second': 24.495}"
      ]
     },
     "execution_count": 15,
     "metadata": {},
     "output_type": "execute_result"
    }
   ],
   "source": [
    "trainer.evaluate()"
   ]
  },
  {
   "cell_type": "code",
   "execution_count": 16,
   "metadata": {},
   "outputs": [
    {
     "data": {
      "text/html": [
       "\n",
       "    <div>\n",
       "      \n",
       "      <progress value='193632' max='193632' style='width:300px; height:20px; vertical-align: middle;'></progress>\n",
       "      [193632/193632 3:48:59, Epoch 6/6]\n",
       "    </div>\n",
       "    <table border=\"1\" class=\"dataframe\">\n",
       "  <thead>\n",
       " <tr style=\"text-align: left;\">\n",
       "      <th>Epoch</th>\n",
       "      <th>Training Loss</th>\n",
       "      <th>Validation Loss</th>\n",
       "      <th>F1 Average</th>\n",
       "      <th>Hamming Distance</th>\n",
       "    </tr>\n",
       "  </thead>\n",
       "  <tbody>\n",
       "    <tr>\n",
       "      <td>1</td>\n",
       "      <td>0.099800</td>\n",
       "      <td>0.085115</td>\n",
       "      <td>0.683829</td>\n",
       "      <td>1.200669</td>\n",
       "    </tr>\n",
       "    <tr>\n",
       "      <td>2</td>\n",
       "      <td>0.072000</td>\n",
       "      <td>0.064689</td>\n",
       "      <td>0.754207</td>\n",
       "      <td>0.885102</td>\n",
       "    </tr>\n",
       "    <tr>\n",
       "      <td>3</td>\n",
       "      <td>0.054600</td>\n",
       "      <td>0.049267</td>\n",
       "      <td>0.794177</td>\n",
       "      <td>0.655346</td>\n",
       "    </tr>\n",
       "    <tr>\n",
       "      <td>4</td>\n",
       "      <td>0.042000</td>\n",
       "      <td>0.041449</td>\n",
       "      <td>0.811311</td>\n",
       "      <td>0.541894</td>\n",
       "    </tr>\n",
       "    <tr>\n",
       "      <td>5</td>\n",
       "      <td>0.031500</td>\n",
       "      <td>0.037880</td>\n",
       "      <td>0.820731</td>\n",
       "      <td>0.488101</td>\n",
       "    </tr>\n",
       "    <tr>\n",
       "      <td>6</td>\n",
       "      <td>0.021800</td>\n",
       "      <td>0.037558</td>\n",
       "      <td>0.832346</td>\n",
       "      <td>0.453685</td>\n",
       "    </tr>\n",
       "  </tbody>\n",
       "</table><p>"
      ],
      "text/plain": [
       "<IPython.core.display.HTML object>"
      ]
     },
     "metadata": {},
     "output_type": "display_data"
    },
    {
     "data": {
      "text/plain": [
       "TrainOutput(global_step=193632, training_loss=0.05362507686637055, metrics={'train_runtime': 13739.5577, 'train_samples_per_second': 42.279, 'train_steps_per_second': 14.093, 'total_flos': 0.0, 'train_loss': 0.05362507686637055, 'epoch': 6.0})"
      ]
     },
     "execution_count": 16,
     "metadata": {},
     "output_type": "execute_result"
    }
   ],
   "source": [
    "import os\n",
    "\n",
    "trainer.train()\n",
    "# this takes the last available checkpoint and resumes training from there\n",
    "#trainer.train(resume_from_checkpoint=f\"esm_multilabel/{sorted(os.listdir('esm_multilabel'))[-1]}/\")"
   ]
  },
  {
   "cell_type": "markdown",
   "metadata": {},
   "source": [
    "As you can see from the columns \"F1 Average\" and \"Hamming Distance\", which are calculated on the test set, the models performs well enough. In particular by looking at the Hamming distance we can see that, on the 40 labels we are using, the model gets only 0.45 wrong on average.\n",
    "\n",
    "Moreover the model has not converged yet; we just stopped the training because it was taking too long (even with only a quarter of the full dataset in use).\n",
    "\n",
    "Of course with some hyperparameter tuning and more computational resources, so as to be able to use bigger models and more data, the results could be even more impressive.\n",
    "\n",
    "We finally better quantify the model's performance by employing a multi-label confusion matrix, as described in [Heydarian et al, MLCM: Multi-Label Confusion Matrix](https://www.researchgate.net/publication/358509618_MLCM_Multi-Label_Confusion_Matrix). This is basically the equivalent of a normal confusion matrix but with an additional row and column to signify the absence of all other labels.\n",
    "\n",
    "On the y-axis we have the ground truth and on the x-axis we have the assigned label.\n",
    "\n",
    "As we can see from the matrix when the model fails it mostly assigns other (i.e. no label) to any given class. This is not surprising given the nature of the model, which is basically one-vs-all logistic regression (after the encoding stage) with a very high class imbalance."
   ]
  },
  {
   "cell_type": "code",
   "execution_count": 17,
   "metadata": {},
   "outputs": [
    {
     "data": {
      "text/html": [],
      "text/plain": [
       "<IPython.core.display.HTML object>"
      ]
     },
     "metadata": {},
     "output_type": "display_data"
    },
    {
     "data": {
      "text/plain": [
       "<AxesSubplot:>"
      ]
     },
     "execution_count": 17,
     "metadata": {},
     "output_type": "execute_result"
    },
    {
     "data": {
      "image/png": "[encoded data removed]",
      "text/plain": [
       "<Figure size 432x288 with 2 Axes>"
      ]
     },
     "metadata": {
      "needs_background": "light"
     },
     "output_type": "display_data"
    }
   ],
   "source": [
    "from mlcm import mlcm\n",
    "import seaborn as sns\n",
    "\n",
    "predictions, _, _ = trainer.predict(ds[\"test\"])\n",
    "predictions = np.where(predictions > .5, 1, 0)\n",
    "references = np.array(ds[\"test\"]['labels'])\n",
    "\n",
    "conf_mat,normal_conf_mat = mlcm.cm(references, predictions, print_note=False)\n",
    "sns.heatmap(normal_conf_mat)"
   ]
  },
  {
   "cell_type": "markdown",
   "metadata": {},
   "source": [
    "#### Future Work\n",
    "\n",
    "It would be interesting to see how the model performs with the encoder frozen, in particular it could be worthwhile to investigate the latent space representation of the sequences when no further fine-tuning is performed. For example we could cluster the representations in the latent space and then have an expert assess whether the proteins belonging to these clusters share some common traits, either functional or structural or both."
   ]
  }
 ],
 "metadata": {
  "kernelspec": {
   "display_name": "Python 3",
   "language": "python",
   "name": "python3"
  },
  "language_info": {
   "codemirror_mode": {
    "name": "ipython",
    "version": 3
   },
   "file_extension": ".py",
   "mimetype": "text/x-python",
   "name": "python",
   "nbconvert_exporter": "python",
   "pygments_lexer": "ipython3",
   "version": "2.7.18"
  }
 },
 "nbformat": 4,
 "nbformat_minor": 2
}
