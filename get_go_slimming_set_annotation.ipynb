{
 "cells": [
  {
   "cell_type": "code",
   "execution_count": 6,
   "metadata": {},
   "outputs": [
    {
     "data": {
      "text/plain": [
       "h:go g:MultiDiGraph with 47785 nodes and 86135 edges"
      ]
     },
     "execution_count": 6,
     "metadata": {},
     "output_type": "execute_result"
    }
   ],
   "source": [
    "from ontobio.ontol_factory import OntologyFactory\n",
    "ont = OntologyFactory().create(\"go\")\n",
    "slim = OntologyFactory().create(\"goslim_generic.json\")\n",
    "\n",
    "MOLECULAR_FUNCTION = \"GO:0003674\"\n",
    "\n",
    "slim_go_terms = [el for el in list(slim.get_graph().nodes()) if el.startswith(\"GO\")] # get all GO terms in generic slim set\n",
    "molecular_functions = ont.descendants(MOLECULAR_FUNCTION) # get all molecular functions in GO\n",
    "slim_molecular_functions = list(set(slim_go_terms) & set(molecular_functions)) # take intersetcion between molecular functions and slim GO terms\n",
    "slim_molecular_functions_descendants = {el : set(ont.descendants(el)) for el in slim_molecular_functions} # get all descendants of the above"
   ]
  },
  {
   "cell_type": "code",
   "execution_count": null,
   "metadata": {},
   "outputs": [],
   "source": []
  }
 ],
 "metadata": {
  "kernelspec": {
   "display_name": "Python 3",
   "language": "python",
   "name": "python3"
  },
  "language_info": {
   "codemirror_mode": {
    "name": "ipython",
    "version": 3
   },
   "file_extension": ".py",
   "mimetype": "text/x-python",
   "name": "python",
   "nbconvert_exporter": "python",
   "pygments_lexer": "ipython3",
   "version": "3.10.12"
  }
 },
 "nbformat": 4,
 "nbformat_minor": 2
}
