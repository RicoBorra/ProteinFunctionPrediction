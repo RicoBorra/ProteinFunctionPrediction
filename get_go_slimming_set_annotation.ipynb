{
 "cells": [
  {
   "cell_type": "markdown",
   "metadata": {},
   "source": [
    "# Gene Ontology generic slim"
   ]
  },
  {
   "cell_type": "code",
   "execution_count": 1,
   "metadata": {},
   "outputs": [],
   "source": [
    "from ontobio.ontol_factory import OntologyFactory\n",
    "ont = OntologyFactory().create(\"go\")\n",
    "slim = OntologyFactory().create(\"goslim_generic.json\")\n",
    "\n",
    "MOLECULAR_FUNCTION = \"GO:0003674\"\n",
    "\n",
    "slim_go_terms = [el for el in list(slim.get_graph().nodes()) if el.startswith(\"GO\")] # get all GO terms in generic slim set\n",
    "molecular_functions = ont.descendants(MOLECULAR_FUNCTION) # get all molecular functions in GO\n",
    "slim_molecular_functions = list(set(slim_go_terms) & set(molecular_functions)) # take intersetcion between molecular functions and slim GO terms\n",
    "slim_molecular_functions_descendants = {el : set(ont.descendants(el)) for el in slim_molecular_functions} # get all descendants of the above"
   ]
  },
  {
   "cell_type": "code",
   "execution_count": 2,
   "metadata": {},
   "outputs": [],
   "source": [
    "import pandas as pd\n",
    "import torch\n",
    "import numpy as np\n",
    "\n",
    "# this is a customized version of the UniProt database, only for human proteins, which are around 20k\n",
    "# the columns were chosen to minimize the size of the file while maintaining useful information\n",
    "df = pd.read_csv(\"uniprotkb_reviewed_true_AND_model_organ_2023_12_29.tsv\", sep=\"\\t\")\n",
    "df = df[~df['Gene Ontology (GO)'].isna()] # remove the ones without GO annotations"
   ]
  },
  {
   "cell_type": "code",
   "execution_count": 3,
   "metadata": {},
   "outputs": [
    {
     "data": {
      "text/html": [
       "<div>\n",
       "<style scoped>\n",
       "    .dataframe tbody tr th:only-of-type {\n",
       "        vertical-align: middle;\n",
       "    }\n",
       "\n",
       "    .dataframe tbody tr th {\n",
       "        vertical-align: top;\n",
       "    }\n",
       "\n",
       "    .dataframe thead th {\n",
       "        text-align: right;\n",
       "    }\n",
       "</style>\n",
       "<table border=\"1\" class=\"dataframe\">\n",
       "  <thead>\n",
       "    <tr style=\"text-align: right;\">\n",
       "      <th></th>\n",
       "      <th>Entry</th>\n",
       "      <th>Entry Name</th>\n",
       "      <th>Protein names</th>\n",
       "      <th>Gene Names</th>\n",
       "      <th>Organism</th>\n",
       "      <th>Length</th>\n",
       "      <th>Sequence</th>\n",
       "      <th>Gene Ontology (molecular function)</th>\n",
       "      <th>Gene Ontology (cellular component)</th>\n",
       "      <th>Gene Ontology (biological process)</th>\n",
       "      <th>Gene Ontology IDs</th>\n",
       "      <th>Gene Ontology (GO)</th>\n",
       "    </tr>\n",
       "  </thead>\n",
       "  <tbody>\n",
       "    <tr>\n",
       "      <th>1</th>\n",
       "      <td>A0A024RBG1</td>\n",
       "      <td>NUD4B_HUMAN</td>\n",
       "      <td>Diphosphoinositol polyphosphate phosphohydrola...</td>\n",
       "      <td>NUDT4B</td>\n",
       "      <td>Homo sapiens (Human)</td>\n",
       "      <td>181</td>\n",
       "      <td>MMKFKPNQTRTYDREGFKKRAACLCFRSEQEDEVLLVSSSRYPDQW...</td>\n",
       "      <td>bis(5'-adenosyl)-hexaphosphatase activity [GO:...</td>\n",
       "      <td>cytoplasm [GO:0005737]; cytosol [GO:0005829]; ...</td>\n",
       "      <td>adenosine 5'-(hexahydrogen pentaphosphate) cat...</td>\n",
       "      <td>GO:0000298; GO:0003723; GO:0005634; GO:0005737...</td>\n",
       "      <td>cytoplasm [GO:0005737]; cytosol [GO:0005829]; ...</td>\n",
       "    </tr>\n",
       "    <tr>\n",
       "      <th>28</th>\n",
       "      <td>A0A075B6Q5</td>\n",
       "      <td>HV364_HUMAN</td>\n",
       "      <td>Immunoglobulin heavy variable 3-64</td>\n",
       "      <td>IGHV3-64</td>\n",
       "      <td>Homo sapiens (Human)</td>\n",
       "      <td>118</td>\n",
       "      <td>MMEFGLSWVFLVAIFKGVQCEVQLVESGEGLVQPGGSLRLSCAASG...</td>\n",
       "      <td>antigen binding [GO:0003823]</td>\n",
       "      <td>extracellular region [GO:0005576]; immunoglobu...</td>\n",
       "      <td>immunoglobulin mediated immune response [GO:00...</td>\n",
       "      <td>GO:0003823; GO:0005576; GO:0005886; GO:0016064...</td>\n",
       "      <td>extracellular region [GO:0005576]; immunoglobu...</td>\n",
       "    </tr>\n",
       "    <tr>\n",
       "      <th>30</th>\n",
       "      <td>A0A075B6R2</td>\n",
       "      <td>HV404_HUMAN</td>\n",
       "      <td>Immunoglobulin heavy variable 4-4</td>\n",
       "      <td>IGHV4-4</td>\n",
       "      <td>Homo sapiens (Human)</td>\n",
       "      <td>117</td>\n",
       "      <td>MKHLWFFLLLVAAPRWVLSQVQLQESGPGLVKPSGTLSLTCAVSGG...</td>\n",
       "      <td>antigen binding [GO:0003823]</td>\n",
       "      <td>extracellular region [GO:0005576]; immunoglobu...</td>\n",
       "      <td>immunoglobulin mediated immune response [GO:00...</td>\n",
       "      <td>GO:0003823; GO:0005576; GO:0005886; GO:0016064...</td>\n",
       "      <td>extracellular region [GO:0005576]; immunoglobu...</td>\n",
       "    </tr>\n",
       "    <tr>\n",
       "      <th>38</th>\n",
       "      <td>A0A075B6T6</td>\n",
       "      <td>TVAL2_HUMAN</td>\n",
       "      <td>T cell receptor alpha variable 12-2</td>\n",
       "      <td>TRAV12-2</td>\n",
       "      <td>Homo sapiens (Human)</td>\n",
       "      <td>113</td>\n",
       "      <td>MKSLRVLLVILWLQLSWVWSQQKEVEQNSGPLSVPEGAIASLNCTY...</td>\n",
       "      <td>peptide antigen binding [GO:0042605]</td>\n",
       "      <td>T cell receptor complex [GO:0042101]</td>\n",
       "      <td>adaptive immune response [GO:0002250]</td>\n",
       "      <td>GO:0002250; GO:0042101; GO:0042605</td>\n",
       "      <td>T cell receptor complex [GO:0042101]; peptide ...</td>\n",
       "    </tr>\n",
       "    <tr>\n",
       "      <th>43</th>\n",
       "      <td>A0A075B6W5</td>\n",
       "      <td>TVA23_HUMAN</td>\n",
       "      <td>T cell receptor alpha variable 23/delta variab...</td>\n",
       "      <td>TRAV23DV6</td>\n",
       "      <td>Homo sapiens (Human)</td>\n",
       "      <td>121</td>\n",
       "      <td>MDKILGASFLVLWLQLCWVSGQQKEKSDQQQVKQSPQSLIVQKGGI...</td>\n",
       "      <td>peptide antigen binding [GO:0042605]</td>\n",
       "      <td>T cell receptor complex [GO:0042101]</td>\n",
       "      <td>adaptive immune response [GO:0002250]</td>\n",
       "      <td>GO:0002250; GO:0042101; GO:0042605</td>\n",
       "      <td>T cell receptor complex [GO:0042101]; peptide ...</td>\n",
       "    </tr>\n",
       "  </tbody>\n",
       "</table>\n",
       "</div>"
      ],
      "text/plain": [
       "         Entry   Entry Name  \\\n",
       "1   A0A024RBG1  NUD4B_HUMAN   \n",
       "28  A0A075B6Q5  HV364_HUMAN   \n",
       "30  A0A075B6R2  HV404_HUMAN   \n",
       "38  A0A075B6T6  TVAL2_HUMAN   \n",
       "43  A0A075B6W5  TVA23_HUMAN   \n",
       "\n",
       "                                        Protein names Gene Names  \\\n",
       "1   Diphosphoinositol polyphosphate phosphohydrola...     NUDT4B   \n",
       "28                 Immunoglobulin heavy variable 3-64   IGHV3-64   \n",
       "30                  Immunoglobulin heavy variable 4-4    IGHV4-4   \n",
       "38                T cell receptor alpha variable 12-2   TRAV12-2   \n",
       "43  T cell receptor alpha variable 23/delta variab...  TRAV23DV6   \n",
       "\n",
       "                Organism  Length  \\\n",
       "1   Homo sapiens (Human)     181   \n",
       "28  Homo sapiens (Human)     118   \n",
       "30  Homo sapiens (Human)     117   \n",
       "38  Homo sapiens (Human)     113   \n",
       "43  Homo sapiens (Human)     121   \n",
       "\n",
       "                                             Sequence  \\\n",
       "1   MMKFKPNQTRTYDREGFKKRAACLCFRSEQEDEVLLVSSSRYPDQW...   \n",
       "28  MMEFGLSWVFLVAIFKGVQCEVQLVESGEGLVQPGGSLRLSCAASG...   \n",
       "30  MKHLWFFLLLVAAPRWVLSQVQLQESGPGLVKPSGTLSLTCAVSGG...   \n",
       "38  MKSLRVLLVILWLQLSWVWSQQKEVEQNSGPLSVPEGAIASLNCTY...   \n",
       "43  MDKILGASFLVLWLQLCWVSGQQKEKSDQQQVKQSPQSLIVQKGGI...   \n",
       "\n",
       "                   Gene Ontology (molecular function)  \\\n",
       "1   bis(5'-adenosyl)-hexaphosphatase activity [GO:...   \n",
       "28                       antigen binding [GO:0003823]   \n",
       "30                       antigen binding [GO:0003823]   \n",
       "38               peptide antigen binding [GO:0042605]   \n",
       "43               peptide antigen binding [GO:0042605]   \n",
       "\n",
       "                   Gene Ontology (cellular component)  \\\n",
       "1   cytoplasm [GO:0005737]; cytosol [GO:0005829]; ...   \n",
       "28  extracellular region [GO:0005576]; immunoglobu...   \n",
       "30  extracellular region [GO:0005576]; immunoglobu...   \n",
       "38               T cell receptor complex [GO:0042101]   \n",
       "43               T cell receptor complex [GO:0042101]   \n",
       "\n",
       "                   Gene Ontology (biological process)  \\\n",
       "1   adenosine 5'-(hexahydrogen pentaphosphate) cat...   \n",
       "28  immunoglobulin mediated immune response [GO:00...   \n",
       "30  immunoglobulin mediated immune response [GO:00...   \n",
       "38              adaptive immune response [GO:0002250]   \n",
       "43              adaptive immune response [GO:0002250]   \n",
       "\n",
       "                                    Gene Ontology IDs  \\\n",
       "1   GO:0000298; GO:0003723; GO:0005634; GO:0005737...   \n",
       "28  GO:0003823; GO:0005576; GO:0005886; GO:0016064...   \n",
       "30  GO:0003823; GO:0005576; GO:0005886; GO:0016064...   \n",
       "38                 GO:0002250; GO:0042101; GO:0042605   \n",
       "43                 GO:0002250; GO:0042101; GO:0042605   \n",
       "\n",
       "                                   Gene Ontology (GO)  \n",
       "1   cytoplasm [GO:0005737]; cytosol [GO:0005829]; ...  \n",
       "28  extracellular region [GO:0005576]; immunoglobu...  \n",
       "30  extracellular region [GO:0005576]; immunoglobu...  \n",
       "38  T cell receptor complex [GO:0042101]; peptide ...  \n",
       "43  T cell receptor complex [GO:0042101]; peptide ...  "
      ]
     },
     "execution_count": 3,
     "metadata": {},
     "output_type": "execute_result"
    }
   ],
   "source": [
    "df = df[~df['Gene Ontology (molecular function)'].isna()] # remove the ones without GO annotations\n",
    "df.head()"
   ]
  },
  {
   "cell_type": "code",
   "execution_count": 4,
   "metadata": {},
   "outputs": [
    {
     "data": {
      "text/plain": [
       "<AxesSubplot:>"
      ]
     },
     "execution_count": 4,
     "metadata": {},
     "output_type": "execute_result"
    },
    {
     "data": {
      "image/png": "[encoded data removed]",
      "text/plain": [
       "<Figure size 432x288 with 1 Axes>"
      ]
     },
     "metadata": {
      "needs_background": "light"
     },
     "output_type": "display_data"
    }
   ],
   "source": [
    "df[df['Length'] < 4000]['Length'].hist(bins=100)"
   ]
  },
  {
   "cell_type": "code",
   "execution_count": 5,
   "metadata": {},
   "outputs": [],
   "source": [
    "df['Gene Ontology (molecular function)'] = df['Gene Ontology (molecular function)']\\\n",
    "    .apply(lambda x: x.split(\";\")).apply(lambda x: [el[el.index(\"[GO\")+1:-1] for el in x])"
   ]
  },
  {
   "cell_type": "code",
   "execution_count": 6,
   "metadata": {},
   "outputs": [],
   "source": [
    "for k in slim_molecular_functions:\n",
    "    df[ont.node(k)['label']] = df['Gene Ontology (molecular function)']\\\n",
    "        .apply(lambda x: max([True if el in slim_molecular_functions_descendants[k] else False for el in x]))"
   ]
  },
  {
   "cell_type": "code",
   "execution_count": 7,
   "metadata": {},
   "outputs": [
    {
     "data": {
      "text/html": [
       "<div>\n",
       "<style scoped>\n",
       "    .dataframe tbody tr th:only-of-type {\n",
       "        vertical-align: middle;\n",
       "    }\n",
       "\n",
       "    .dataframe tbody tr th {\n",
       "        vertical-align: top;\n",
       "    }\n",
       "\n",
       "    .dataframe thead th {\n",
       "        text-align: right;\n",
       "    }\n",
       "</style>\n",
       "<table border=\"1\" class=\"dataframe\">\n",
       "  <thead>\n",
       "    <tr style=\"text-align: right;\">\n",
       "      <th></th>\n",
       "      <th>Sequence</th>\n",
       "      <th>ligase activity</th>\n",
       "      <th>molecular transducer activity</th>\n",
       "      <th>lipid binding</th>\n",
       "      <th>ATP-dependent activity</th>\n",
       "      <th>oxidoreductase activity</th>\n",
       "      <th>catalytic activity, acting on RNA</th>\n",
       "      <th>DNA binding</th>\n",
       "      <th>transcription regulator activity</th>\n",
       "      <th>cargo receptor activity</th>\n",
       "      <th>...</th>\n",
       "      <th>cyclase activity</th>\n",
       "      <th>molecular adaptor activity</th>\n",
       "      <th>histone binding</th>\n",
       "      <th>isomerase activity</th>\n",
       "      <th>translation regulator activity</th>\n",
       "      <th>general transcription initiation factor activity</th>\n",
       "      <th>structural molecule activity</th>\n",
       "      <th>catalytic activity, acting on DNA</th>\n",
       "      <th>cytoskeletal motor activity</th>\n",
       "      <th>cell adhesion mediator activity</th>\n",
       "    </tr>\n",
       "  </thead>\n",
       "  <tbody>\n",
       "    <tr>\n",
       "      <th>1</th>\n",
       "      <td>MMKFKPNQTRTYDREGFKKRAACLCFRSEQEDEVLLVSSSRYPDQW...</td>\n",
       "      <td>False</td>\n",
       "      <td>False</td>\n",
       "      <td>False</td>\n",
       "      <td>False</td>\n",
       "      <td>False</td>\n",
       "      <td>False</td>\n",
       "      <td>False</td>\n",
       "      <td>False</td>\n",
       "      <td>False</td>\n",
       "      <td>...</td>\n",
       "      <td>False</td>\n",
       "      <td>False</td>\n",
       "      <td>False</td>\n",
       "      <td>False</td>\n",
       "      <td>False</td>\n",
       "      <td>False</td>\n",
       "      <td>False</td>\n",
       "      <td>False</td>\n",
       "      <td>False</td>\n",
       "      <td>False</td>\n",
       "    </tr>\n",
       "    <tr>\n",
       "      <th>28</th>\n",
       "      <td>MMEFGLSWVFLVAIFKGVQCEVQLVESGEGLVQPGGSLRLSCAASG...</td>\n",
       "      <td>False</td>\n",
       "      <td>False</td>\n",
       "      <td>False</td>\n",
       "      <td>False</td>\n",
       "      <td>False</td>\n",
       "      <td>False</td>\n",
       "      <td>False</td>\n",
       "      <td>False</td>\n",
       "      <td>False</td>\n",
       "      <td>...</td>\n",
       "      <td>False</td>\n",
       "      <td>False</td>\n",
       "      <td>False</td>\n",
       "      <td>False</td>\n",
       "      <td>False</td>\n",
       "      <td>False</td>\n",
       "      <td>False</td>\n",
       "      <td>False</td>\n",
       "      <td>False</td>\n",
       "      <td>False</td>\n",
       "    </tr>\n",
       "    <tr>\n",
       "      <th>30</th>\n",
       "      <td>MKHLWFFLLLVAAPRWVLSQVQLQESGPGLVKPSGTLSLTCAVSGG...</td>\n",
       "      <td>False</td>\n",
       "      <td>False</td>\n",
       "      <td>False</td>\n",
       "      <td>False</td>\n",
       "      <td>False</td>\n",
       "      <td>False</td>\n",
       "      <td>False</td>\n",
       "      <td>False</td>\n",
       "      <td>False</td>\n",
       "      <td>...</td>\n",
       "      <td>False</td>\n",
       "      <td>False</td>\n",
       "      <td>False</td>\n",
       "      <td>False</td>\n",
       "      <td>False</td>\n",
       "      <td>False</td>\n",
       "      <td>False</td>\n",
       "      <td>False</td>\n",
       "      <td>False</td>\n",
       "      <td>False</td>\n",
       "    </tr>\n",
       "    <tr>\n",
       "      <th>38</th>\n",
       "      <td>MKSLRVLLVILWLQLSWVWSQQKEVEQNSGPLSVPEGAIASLNCTY...</td>\n",
       "      <td>False</td>\n",
       "      <td>False</td>\n",
       "      <td>False</td>\n",
       "      <td>False</td>\n",
       "      <td>False</td>\n",
       "      <td>False</td>\n",
       "      <td>False</td>\n",
       "      <td>False</td>\n",
       "      <td>False</td>\n",
       "      <td>...</td>\n",
       "      <td>False</td>\n",
       "      <td>False</td>\n",
       "      <td>False</td>\n",
       "      <td>False</td>\n",
       "      <td>False</td>\n",
       "      <td>False</td>\n",
       "      <td>False</td>\n",
       "      <td>False</td>\n",
       "      <td>False</td>\n",
       "      <td>False</td>\n",
       "    </tr>\n",
       "    <tr>\n",
       "      <th>43</th>\n",
       "      <td>MDKILGASFLVLWLQLCWVSGQQKEKSDQQQVKQSPQSLIVQKGGI...</td>\n",
       "      <td>False</td>\n",
       "      <td>False</td>\n",
       "      <td>False</td>\n",
       "      <td>False</td>\n",
       "      <td>False</td>\n",
       "      <td>False</td>\n",
       "      <td>False</td>\n",
       "      <td>False</td>\n",
       "      <td>False</td>\n",
       "      <td>...</td>\n",
       "      <td>False</td>\n",
       "      <td>False</td>\n",
       "      <td>False</td>\n",
       "      <td>False</td>\n",
       "      <td>False</td>\n",
       "      <td>False</td>\n",
       "      <td>False</td>\n",
       "      <td>False</td>\n",
       "      <td>False</td>\n",
       "      <td>False</td>\n",
       "    </tr>\n",
       "  </tbody>\n",
       "</table>\n",
       "<p>5 rows × 41 columns</p>\n",
       "</div>"
      ],
      "text/plain": [
       "                                             Sequence  ligase activity  \\\n",
       "1   MMKFKPNQTRTYDREGFKKRAACLCFRSEQEDEVLLVSSSRYPDQW...            False   \n",
       "28  MMEFGLSWVFLVAIFKGVQCEVQLVESGEGLVQPGGSLRLSCAASG...            False   \n",
       "30  MKHLWFFLLLVAAPRWVLSQVQLQESGPGLVKPSGTLSLTCAVSGG...            False   \n",
       "38  MKSLRVLLVILWLQLSWVWSQQKEVEQNSGPLSVPEGAIASLNCTY...            False   \n",
       "43  MDKILGASFLVLWLQLCWVSGQQKEKSDQQQVKQSPQSLIVQKGGI...            False   \n",
       "\n",
       "    molecular transducer activity  lipid binding  ATP-dependent activity  \\\n",
       "1                           False          False                   False   \n",
       "28                          False          False                   False   \n",
       "30                          False          False                   False   \n",
       "38                          False          False                   False   \n",
       "43                          False          False                   False   \n",
       "\n",
       "    oxidoreductase activity  catalytic activity, acting on RNA  DNA binding  \\\n",
       "1                     False                              False        False   \n",
       "28                    False                              False        False   \n",
       "30                    False                              False        False   \n",
       "38                    False                              False        False   \n",
       "43                    False                              False        False   \n",
       "\n",
       "    transcription regulator activity  cargo receptor activity  ...  \\\n",
       "1                              False                    False  ...   \n",
       "28                             False                    False  ...   \n",
       "30                             False                    False  ...   \n",
       "38                             False                    False  ...   \n",
       "43                             False                    False  ...   \n",
       "\n",
       "    cyclase activity  molecular adaptor activity  histone binding  \\\n",
       "1              False                       False            False   \n",
       "28             False                       False            False   \n",
       "30             False                       False            False   \n",
       "38             False                       False            False   \n",
       "43             False                       False            False   \n",
       "\n",
       "    isomerase activity  translation regulator activity  \\\n",
       "1                False                           False   \n",
       "28               False                           False   \n",
       "30               False                           False   \n",
       "38               False                           False   \n",
       "43               False                           False   \n",
       "\n",
       "    general transcription initiation factor activity  \\\n",
       "1                                              False   \n",
       "28                                             False   \n",
       "30                                             False   \n",
       "38                                             False   \n",
       "43                                             False   \n",
       "\n",
       "    structural molecule activity  catalytic activity, acting on DNA  \\\n",
       "1                          False                              False   \n",
       "28                         False                              False   \n",
       "30                         False                              False   \n",
       "38                         False                              False   \n",
       "43                         False                              False   \n",
       "\n",
       "    cytoskeletal motor activity  cell adhesion mediator activity  \n",
       "1                         False                            False  \n",
       "28                        False                            False  \n",
       "30                        False                            False  \n",
       "38                        False                            False  \n",
       "43                        False                            False  \n",
       "\n",
       "[5 rows x 41 columns]"
      ]
     },
     "execution_count": 7,
     "metadata": {},
     "output_type": "execute_result"
    }
   ],
   "source": [
    "ohe_df = df.drop(columns=['Entry', 'Entry Name', 'Protein names', 'Gene Names', 'Organism',\n",
    "                            'Length', 'Gene Ontology (molecular function)',\n",
    "                            'Gene Ontology (cellular component)',\n",
    "                            'Gene Ontology (biological process)', 'Gene Ontology IDs',\n",
    "                            'Gene Ontology (GO)'])\n",
    "ohe_df.head()"
   ]
  },
  {
   "cell_type": "code",
   "execution_count": 8,
   "metadata": {},
   "outputs": [],
   "source": [
    "labels = ohe_df.drop(columns=[\"Sequence\"]).columns\n",
    "X = df[labels].to_numpy().astype(np.float32)\n",
    "l = []\n",
    "for i in range(X.shape[0]):\n",
    "    l.append(torch.tensor(X[i,:]))"
   ]
  },
  {
   "cell_type": "markdown",
   "metadata": {},
   "source": [
    "# LLM Fine Tuning (using a Logistic Regression as Classification Head)\n",
    "This way we take advantage of Logistic Regression multivariate response and perform independent classification of all the various classes"
   ]
  },
  {
   "cell_type": "code",
   "execution_count": 9,
   "metadata": {},
   "outputs": [
    {
     "data": {
      "text/plain": [
       "DatasetDict({\n",
       "    train: Dataset({\n",
       "        features: ['labels', 'sequence'],\n",
       "        num_rows: 12817\n",
       "    })\n",
       "    test: Dataset({\n",
       "        features: ['labels', 'sequence'],\n",
       "        num_rows: 3205\n",
       "    })\n",
       "})"
      ]
     },
     "execution_count": 9,
     "metadata": {},
     "output_type": "execute_result"
    }
   ],
   "source": [
    "from datasets import Dataset\n",
    "\n",
    "ds = Dataset.from_dict({\"labels\": l, \"sequence\" : df['Sequence']})\n",
    "ds = ds.shuffle(seed=42).train_test_split(test_size=0.2)\n",
    "ds"
   ]
  },
  {
   "cell_type": "code",
   "execution_count": 10,
   "metadata": {},
   "outputs": [
    {
     "data": {
      "application/vnd.jupyter.widget-view+json": {
       "model_id": "27b6bf3e9d904484af0999fe49866bf4",
       "version_major": 2,
       "version_minor": 0
      },
      "text/plain": [
       "Map:   0%|          | 0/12817 [00:00<?, ? examples/s]"
      ]
     },
     "metadata": {},
     "output_type": "display_data"
    },
    {
     "data": {
      "application/vnd.jupyter.widget-view+json": {
       "model_id": "12d64a105bc84c0294e6172803a9ba7a",
       "version_major": 2,
       "version_minor": 0
      },
      "text/plain": [
       "Map:   0%|          | 0/3205 [00:00<?, ? examples/s]"
      ]
     },
     "metadata": {},
     "output_type": "display_data"
    },
    {
     "data": {
      "text/plain": [
       "DatasetDict({\n",
       "    train: Dataset({\n",
       "        features: ['labels', 'sequence'],\n",
       "        num_rows: 12817\n",
       "    })\n",
       "    test: Dataset({\n",
       "        features: ['labels', 'sequence'],\n",
       "        num_rows: 3205\n",
       "    })\n",
       "})"
      ]
     },
     "execution_count": 10,
     "metadata": {},
     "output_type": "execute_result"
    }
   ],
   "source": [
    "def from_list_to_tensor(mapped_ds):\n",
    "    mapped_ds['labels'] = torch.tensor(mapped_ds['labels'])\n",
    "    return\n",
    "\n",
    "ds = ds.map(from_list_to_tensor)\n",
    "ds"
   ]
  },
  {
   "cell_type": "code",
   "execution_count": 11,
   "metadata": {},
   "outputs": [
    {
     "data": {
      "text/plain": [
       "list"
      ]
     },
     "execution_count": 11,
     "metadata": {},
     "output_type": "execute_result"
    }
   ],
   "source": [
    "type(ds['train'][0]['labels'])"
   ]
  },
  {
   "cell_type": "code",
   "execution_count": 12,
   "metadata": {},
   "outputs": [
    {
     "name": "stderr",
     "output_type": "stream",
     "text": [
      "Some weights of EsmModel were not initialized from the model checkpoint at facebook/esm2_t6_8M_UR50D and are newly initialized: ['esm.pooler.dense.weight', 'esm.pooler.dense.bias']\n",
      "You should probably TRAIN this model on a down-stream task to be able to use it for predictions and inference.\n"
     ]
    }
   ],
   "source": [
    "from transformers import AutoTokenizer, EsmModel\n",
    "import torch\n",
    "import os\n",
    "\n",
    "os.environ['TOKENIZERS_PARALLELISM'] = \"false\"\n",
    "os.environ[\"WANDB_DISABLED\"] = \"true\"\n",
    "\n",
    "#checkpoint = \"facebook/esm2_t30_150M_UR50D\"\n",
    "#checkpoint = \"facebook/esm2_t12_35M_UR50D\"\n",
    "checkpoint = \"facebook/esm2_t6_8M_UR50D\"\n",
    "\n",
    "BATCH_SIZE = 4\n",
    "NUM_EPOCHS = 4\n",
    "\n",
    "tokenizer = AutoTokenizer.from_pretrained(checkpoint)\n",
    "model = EsmModel.from_pretrained(checkpoint)"
   ]
  },
  {
   "cell_type": "code",
   "execution_count": 13,
   "metadata": {},
   "outputs": [
    {
     "data": {
      "application/vnd.jupyter.widget-view+json": {
       "model_id": "a25247ba8bf4402298893ffe1dc6a097",
       "version_major": 2,
       "version_minor": 0
      },
      "text/plain": [
       "Map:   0%|          | 0/12817 [00:00<?, ? examples/s]"
      ]
     },
     "metadata": {},
     "output_type": "display_data"
    },
    {
     "data": {
      "application/vnd.jupyter.widget-view+json": {
       "model_id": "b11e48a05eeb44ed88fa7706cb7b47a1",
       "version_major": 2,
       "version_minor": 0
      },
      "text/plain": [
       "Map:   0%|          | 0/3205 [00:00<?, ? examples/s]"
      ]
     },
     "metadata": {},
     "output_type": "display_data"
    },
    {
     "data": {
      "text/plain": [
       "DatasetDict({\n",
       "    train: Dataset({\n",
       "        features: ['labels', 'input_ids', 'attention_mask'],\n",
       "        num_rows: 12817\n",
       "    })\n",
       "    test: Dataset({\n",
       "        features: ['labels', 'input_ids', 'attention_mask'],\n",
       "        num_rows: 3205\n",
       "    })\n",
       "})"
      ]
     },
     "execution_count": 13,
     "metadata": {},
     "output_type": "execute_result"
    }
   ],
   "source": [
    "def preprocess_tokenize(mapped_ds):\n",
    "    return tokenizer(mapped_ds['sequence'], truncation=True, max_length=1024)\n",
    "\n",
    "ds = ds.map(preprocess_tokenize)\n",
    "ds = ds.remove_columns(\"sequence\")\n",
    "ds"
   ]
  },
  {
   "cell_type": "code",
   "execution_count": 109,
   "metadata": {},
   "outputs": [],
   "source": [
    "#import pytorch_lightning as pl\n",
    "import torch.nn as nn\n",
    "from transformers import Trainer, TrainingArguments\n",
    "\n",
    "class ESMwithMultiClass(nn.Module):\n",
    "    def __init__(self, num_labels=40, lr=1e-4):\n",
    "        super().__init__()\n",
    "        self.llm = model\n",
    "        self.num_labels = num_labels\n",
    "        self.clf = nn.Sequential(\n",
    "            nn.Flatten(),\n",
    "            nn.Dropout(0.2),\n",
    "            nn.Linear(in_features=model.pooler.dense.in_features, out_features=self.num_labels),\n",
    "            nn.Sigmoid()\n",
    "        )\n",
    "        self.lr = lr\n",
    "\n",
    "    def forward(self, input_ids, attention_mask, labels=None):\n",
    "        return {'logits': self.clf(self.llm(input_ids, attention_mask).pooler_output)}\n",
    "    \n",
    "class MultilabelTrainer(Trainer):\n",
    "    def compute_loss(self, model, inputs, return_outputs=False):\n",
    "        labels = inputs.get(\"labels\")\n",
    "        print(labels)\n",
    "        logits = model(**inputs)['logits']\n",
    "        #logits = outputs.get('logits')\n",
    "        print(logits.shape, labels.shape)\n",
    "        loss_fct = nn.BCELoss()\n",
    "        loss = loss_fct(logits.view(-1, self.model.num_labels),\n",
    "                        labels.float().view(-1, self.model.num_labels))\n",
    "        loss = loss.mean()\n",
    "        return (loss, logits) if return_outputs else loss"
   ]
  },
  {
   "cell_type": "code",
   "execution_count": 110,
   "metadata": {},
   "outputs": [],
   "source": [
    "import evaluate\n",
    "from transformers import DataCollatorWithPadding\n",
    "from typing import List, Dict, Any\n",
    "\n",
    "def compute_metrics(eval_pred):\n",
    "    f1_score = evaluate.load(\"f1\")\n",
    "    predictions, labels = eval_pred\n",
    "    print(predictions, labels)\n",
    "    print(eval_pred.inputs)\n",
    "    predictions = np.where(predictions > 0.5, 1, 0)\n",
    "    return f1_score.compute(predictions=predictions, references=labels, average=\"macro\")\n",
    "\n",
    "data_collator = DataCollatorWithPadding(tokenizer=tokenizer)"
   ]
  },
  {
   "cell_type": "code",
   "execution_count": 111,
   "metadata": {},
   "outputs": [
    {
     "name": "stderr",
     "output_type": "stream",
     "text": [
      "Using the `WANDB_DISABLED` environment variable is deprecated and will be removed in v5. Use the --report_to flag to control the integrations used for logging result (for instance --report_to none).\n"
     ]
    }
   ],
   "source": [
    "esm = ESMwithMultiClass()\n",
    "training_args = TrainingArguments(\n",
    "    output_dir=\"./esm_multilabel\",\n",
    "    learning_rate=1e-5,\n",
    "    per_device_train_batch_size=BATCH_SIZE,\n",
    "    per_device_eval_batch_size=BATCH_SIZE,\n",
    "    num_train_epochs=NUM_EPOCHS,\n",
    "    weight_decay=0.01,\n",
    "    evaluation_strategy=\"epoch\",\n",
    "    logging_strategy=\"epoch\",\n",
    "    save_strategy=\"no\",\n",
    "    logging_steps=1,\n",
    ")"
   ]
  },
  {
   "cell_type": "code",
   "execution_count": 112,
   "metadata": {},
   "outputs": [],
   "source": [
    "trainer = MultilabelTrainer( # can you belive that it drops columns that are not explicitly used by the model?\n",
    "        model=esm,\n",
    "        args=training_args,\n",
    "        train_dataset=ds[\"train\"],\n",
    "        eval_dataset=ds[\"test\"],\n",
    "        tokenizer=tokenizer,\n",
    "        data_collator=data_collator,\n",
    "        compute_metrics=compute_metrics,\n",
    "    )"
   ]
  },
  {
   "cell_type": "code",
   "execution_count": 113,
   "metadata": {},
   "outputs": [
    {
     "data": {
      "text/plain": [
       "{'logits': tensor([[0.4908, 0.4881, 0.4697, 0.5397, 0.5295, 0.4676, 0.5231, 0.5046, 0.5487,\n",
       "          0.4875, 0.4748, 0.5492, 0.4849, 0.4910, 0.5185, 0.5535, 0.5199, 0.4618,\n",
       "          0.4615, 0.5193, 0.4672, 0.5108, 0.5092, 0.4809, 0.5191, 0.4646, 0.4903,\n",
       "          0.5194, 0.5384, 0.4960, 0.4594, 0.4878, 0.4776, 0.4460, 0.5172, 0.5490,\n",
       "          0.4813, 0.4997, 0.4882, 0.4867]], device='cuda:0',\n",
       "        grad_fn=<SigmoidBackward0>)}"
      ]
     },
     "execution_count": 113,
     "metadata": {},
     "output_type": "execute_result"
    }
   ],
   "source": [
    "esm(input_ids=torch.tensor(ds['train'][0]['input_ids']).reshape(1, -1).cuda(),\\\n",
    "     attention_mask=torch.tensor(ds['train'][0]['attention_mask']).reshape(1, -1).cuda())"
   ]
  },
  {
   "cell_type": "code",
   "execution_count": 117,
   "metadata": {},
   "outputs": [
    {
     "ename": "AttributeError",
     "evalue": "'NoneType' object has no attribute 'shape'",
     "output_type": "error",
     "traceback": [
      "\u001b[0;31m---------------------------------------------------------------------------\u001b[0m",
      "\u001b[0;31mAttributeError\u001b[0m                            Traceback (most recent call last)",
      "\u001b[0;32m/tmp/ipykernel_29628/2989135268.py\u001b[0m in \u001b[0;36m<module>\u001b[0;34m\u001b[0m\n\u001b[0;32m----> 1\u001b[0;31m trainer.compute_loss(esm, inputs={'input_ids' : torch.tensor(ds['train'][0]['input_ids']).reshape(1, -1).cuda(), \\\n\u001b[0m\u001b[1;32m      2\u001b[0m                                   'attention_mask' : torch.tensor(ds['train'][0]['attention_mask']).reshape(1, -1).cuda()})\n",
      "\u001b[0;32m/tmp/ipykernel_29628/3928590977.py\u001b[0m in \u001b[0;36mcompute_loss\u001b[0;34m(self, model, inputs, return_outputs)\u001b[0m\n\u001b[1;32m     24\u001b[0m         \u001b[0mlogits\u001b[0m \u001b[0;34m=\u001b[0m \u001b[0mmodel\u001b[0m\u001b[0;34m(\u001b[0m\u001b[0;34m**\u001b[0m\u001b[0minputs\u001b[0m\u001b[0;34m)\u001b[0m\u001b[0;34m[\u001b[0m\u001b[0;34m'logits'\u001b[0m\u001b[0;34m]\u001b[0m\u001b[0;34m\u001b[0m\u001b[0;34m\u001b[0m\u001b[0m\n\u001b[1;32m     25\u001b[0m         \u001b[0;31m#logits = outputs.get('logits')\u001b[0m\u001b[0;34m\u001b[0m\u001b[0;34m\u001b[0m\u001b[0m\n\u001b[0;32m---> 26\u001b[0;31m         \u001b[0mprint\u001b[0m\u001b[0;34m(\u001b[0m\u001b[0mlogits\u001b[0m\u001b[0;34m.\u001b[0m\u001b[0mshape\u001b[0m\u001b[0;34m,\u001b[0m \u001b[0mlabels\u001b[0m\u001b[0;34m.\u001b[0m\u001b[0mshape\u001b[0m\u001b[0;34m)\u001b[0m\u001b[0;34m\u001b[0m\u001b[0;34m\u001b[0m\u001b[0m\n\u001b[0m\u001b[1;32m     27\u001b[0m         \u001b[0mloss_fct\u001b[0m \u001b[0;34m=\u001b[0m \u001b[0mnn\u001b[0m\u001b[0;34m.\u001b[0m\u001b[0mBCELoss\u001b[0m\u001b[0;34m(\u001b[0m\u001b[0;34m)\u001b[0m\u001b[0;34m\u001b[0m\u001b[0;34m\u001b[0m\u001b[0m\n\u001b[1;32m     28\u001b[0m         loss = loss_fct(logits.view(-1, self.model.num_labels),\n",
      "\u001b[0;31mAttributeError\u001b[0m: 'NoneType' object has no attribute 'shape'"
     ]
    }
   ],
   "source": [
    "trainer.compute_loss(esm, inputs={'input_ids' : torch.tensor(ds['train'][0]['input_ids']).reshape(1, -1).cuda(), \\\n",
    "                                  'attention_mask' : torch.tensor(ds['train'][0]['attention_mask']).reshape(1, -1).cuda(),\\\n",
    "                                    'labels' : torch.tensor(ds['train'][0]['labels']).reshape(1, -1).cuda()})"
   ]
  },
  {
   "cell_type": "code",
   "execution_count": 114,
   "metadata": {},
   "outputs": [
    {
     "name": "stdout",
     "output_type": "stream",
     "text": [
      "[0.0, 0.0, 0.0, 0.0, 1.0, 0.0, 0.0, 0.0, 0.0, 0.0, 0.0, 0.0, 0.0, 0.0, 0.0, 0.0, 0.0, 0.0, 0.0, 0.0, 0.0, 0.0, 1.0, 0.0, 0.0, 0.0, 0.0, 0.0, 0.0, 0.0, 0.0, 0.0, 0.0, 0.0, 0.0, 0.0, 0.0, 0.0, 0.0, 0.0]\n"
     ]
    }
   ],
   "source": [
    "print(ds['train'][0]['labels'])"
   ]
  },
  {
   "cell_type": "code",
   "execution_count": 115,
   "metadata": {},
   "outputs": [
    {
     "name": "stdout",
     "output_type": "stream",
     "text": [
      "torch.Size([4, 40]) torch.Size([4, 40])\n"
     ]
    },
    {
     "data": {
      "text/html": [
       "\n",
       "    <div>\n",
       "      \n",
       "      <progress value='1' max='1' style='width:300px; height:20px; vertical-align: middle;'></progress>\n",
       "      [1/1 : < :]\n",
       "    </div>\n",
       "    "
      ],
      "text/plain": [
       "<IPython.core.display.HTML object>"
      ]
     },
     "metadata": {},
     "output_type": "display_data"
    },
    {
     "name": "stdout",
     "output_type": "stream",
     "text": [
      "[[0.49389088 0.49473122 0.5023943  0.54232216 0.51024204 0.48709422\n",
      "  0.50242937 0.49833402 0.52483505 0.48378438 0.48688793 0.5326821\n",
      "  0.48892194 0.49770436 0.53478795 0.51455873 0.5240493  0.45765314\n",
      "  0.44138598 0.51221174 0.47918987 0.52016085 0.53126955 0.51313734\n",
      "  0.51786894 0.48683336 0.49343672 0.5060582  0.5345059  0.50766534\n",
      "  0.4725529  0.4942415  0.48156124 0.45187175 0.49797878 0.5390154\n",
      "  0.48503262 0.51738364 0.49831507 0.5068309 ]\n",
      " [0.47433588 0.49485624 0.51212513 0.54463464 0.515544   0.4529847\n",
      "  0.509742   0.48299694 0.51259345 0.5011304  0.4781159  0.5320843\n",
      "  0.46930498 0.512989   0.5125649  0.5165732  0.51582146 0.4542766\n",
      "  0.4752437  0.51129895 0.4673905  0.52727747 0.5222135  0.5052508\n",
      "  0.5166924  0.47715938 0.49944678 0.49581954 0.5354179  0.49035886\n",
      "  0.48950922 0.47653058 0.47153872 0.45467803 0.5005267  0.5227181\n",
      "  0.489866   0.50261545 0.49001724 0.496993  ]\n",
      " [0.5000243  0.4899014  0.49508667 0.5426194  0.51251304 0.49180743\n",
      "  0.49636418 0.49591625 0.52358407 0.48160347 0.4837973  0.53747255\n",
      "  0.4799299  0.49792475 0.52841383 0.5095147  0.53106135 0.46250162\n",
      "  0.44323885 0.5112197  0.47424462 0.5087897  0.52928454 0.5043225\n",
      "  0.5207526  0.48280627 0.49366194 0.5096916  0.5260121  0.50621575\n",
      "  0.47453615 0.4963409  0.4885692  0.45535392 0.49980453 0.53507906\n",
      "  0.49097326 0.529595   0.49689692 0.49426708]] [[0. 0. 0. 0. 1. 0. 0. 0. 0. 0. 0. 0. 0. 0. 0. 0. 0. 0. 0. 0. 0. 0. 1. 0.\n",
      "  0. 0. 0. 0. 0. 0. 0. 0. 0. 0. 0. 0. 0. 0. 0. 0.]\n",
      " [0. 0. 0. 0. 0. 0. 0. 0. 0. 0. 0. 0. 0. 0. 0. 0. 0. 0. 0. 0. 0. 0. 1. 0.\n",
      "  0. 0. 1. 0. 0. 0. 0. 0. 0. 0. 0. 0. 0. 0. 0. 0.]\n",
      " [0. 0. 0. 0. 1. 0. 0. 0. 0. 0. 0. 0. 0. 0. 0. 0. 0. 0. 0. 0. 0. 0. 1. 0.\n",
      "  0. 0. 1. 0. 0. 0. 0. 0. 0. 0. 0. 0. 0. 0. 0. 0.]\n",
      " [0. 0. 0. 0. 0. 0. 1. 1. 0. 0. 0. 0. 0. 0. 0. 0. 0. 0. 0. 0. 0. 0. 0. 0.\n",
      "  0. 0. 0. 0. 0. 0. 0. 0. 0. 0. 0. 0. 0. 0. 0. 0.]]\n",
      "None\n"
     ]
    },
    {
     "ename": "ValueError",
     "evalue": "Mismatch in the number of predictions (3) and references (4)",
     "output_type": "error",
     "traceback": [
      "\u001b[0;31m---------------------------------------------------------------------------\u001b[0m",
      "\u001b[0;31mValueError\u001b[0m                                Traceback (most recent call last)",
      "\u001b[0;32m/tmp/ipykernel_29628/770614817.py\u001b[0m in \u001b[0;36m<module>\u001b[0;34m\u001b[0m\n\u001b[0;32m----> 1\u001b[0;31m \u001b[0mtrainer\u001b[0m\u001b[0;34m.\u001b[0m\u001b[0mevaluate\u001b[0m\u001b[0;34m(\u001b[0m\u001b[0mds\u001b[0m\u001b[0;34m[\u001b[0m\u001b[0;34m'train'\u001b[0m\u001b[0;34m]\u001b[0m\u001b[0;34m.\u001b[0m\u001b[0mselect\u001b[0m\u001b[0;34m(\u001b[0m\u001b[0mrange\u001b[0m\u001b[0;34m(\u001b[0m\u001b[0;36m4\u001b[0m\u001b[0;34m)\u001b[0m\u001b[0;34m)\u001b[0m\u001b[0;34m)\u001b[0m\u001b[0;34m\u001b[0m\u001b[0;34m\u001b[0m\u001b[0m\n\u001b[0m",
      "\u001b[0;32m~/.local/lib/python3.10/site-packages/transformers/trainer.py\u001b[0m in \u001b[0;36mevaluate\u001b[0;34m(self, eval_dataset, ignore_keys, metric_key_prefix)\u001b[0m\n\u001b[1;32m   3017\u001b[0m \u001b[0;34m\u001b[0m\u001b[0m\n\u001b[1;32m   3018\u001b[0m         \u001b[0meval_loop\u001b[0m \u001b[0;34m=\u001b[0m \u001b[0mself\u001b[0m\u001b[0;34m.\u001b[0m\u001b[0mprediction_loop\u001b[0m \u001b[0;32mif\u001b[0m \u001b[0mself\u001b[0m\u001b[0;34m.\u001b[0m\u001b[0margs\u001b[0m\u001b[0;34m.\u001b[0m\u001b[0muse_legacy_prediction_loop\u001b[0m \u001b[0;32melse\u001b[0m \u001b[0mself\u001b[0m\u001b[0;34m.\u001b[0m\u001b[0mevaluation_loop\u001b[0m\u001b[0;34m\u001b[0m\u001b[0;34m\u001b[0m\u001b[0m\n\u001b[0;32m-> 3019\u001b[0;31m         output = eval_loop(\n\u001b[0m\u001b[1;32m   3020\u001b[0m             \u001b[0meval_dataloader\u001b[0m\u001b[0;34m,\u001b[0m\u001b[0;34m\u001b[0m\u001b[0;34m\u001b[0m\u001b[0m\n\u001b[1;32m   3021\u001b[0m             \u001b[0mdescription\u001b[0m\u001b[0;34m=\u001b[0m\u001b[0;34m\"Evaluation\"\u001b[0m\u001b[0;34m,\u001b[0m\u001b[0;34m\u001b[0m\u001b[0;34m\u001b[0m\u001b[0m\n",
      "\u001b[0;32m~/.local/lib/python3.10/site-packages/transformers/trainer.py\u001b[0m in \u001b[0;36mevaluation_loop\u001b[0;34m(self, dataloader, description, prediction_loss_only, ignore_keys, metric_key_prefix)\u001b[0m\n\u001b[1;32m   3308\u001b[0m                 )\n\u001b[1;32m   3309\u001b[0m             \u001b[0;32melse\u001b[0m\u001b[0;34m:\u001b[0m\u001b[0;34m\u001b[0m\u001b[0;34m\u001b[0m\u001b[0m\n\u001b[0;32m-> 3310\u001b[0;31m                 \u001b[0mmetrics\u001b[0m \u001b[0;34m=\u001b[0m \u001b[0mself\u001b[0m\u001b[0;34m.\u001b[0m\u001b[0mcompute_metrics\u001b[0m\u001b[0;34m(\u001b[0m\u001b[0mEvalPrediction\u001b[0m\u001b[0;34m(\u001b[0m\u001b[0mpredictions\u001b[0m\u001b[0;34m=\u001b[0m\u001b[0mall_preds\u001b[0m\u001b[0;34m,\u001b[0m \u001b[0mlabel_ids\u001b[0m\u001b[0;34m=\u001b[0m\u001b[0mall_labels\u001b[0m\u001b[0;34m)\u001b[0m\u001b[0;34m)\u001b[0m\u001b[0;34m\u001b[0m\u001b[0;34m\u001b[0m\u001b[0m\n\u001b[0m\u001b[1;32m   3311\u001b[0m         \u001b[0;32melse\u001b[0m\u001b[0;34m:\u001b[0m\u001b[0;34m\u001b[0m\u001b[0;34m\u001b[0m\u001b[0m\n\u001b[1;32m   3312\u001b[0m             \u001b[0mmetrics\u001b[0m \u001b[0;34m=\u001b[0m \u001b[0;34m{\u001b[0m\u001b[0;34m}\u001b[0m\u001b[0;34m\u001b[0m\u001b[0;34m\u001b[0m\u001b[0m\n",
      "\u001b[0;32m/tmp/ipykernel_29628/2460617822.py\u001b[0m in \u001b[0;36mcompute_metrics\u001b[0;34m(eval_pred)\u001b[0m\n\u001b[1;32m      9\u001b[0m     \u001b[0mprint\u001b[0m\u001b[0;34m(\u001b[0m\u001b[0meval_pred\u001b[0m\u001b[0;34m.\u001b[0m\u001b[0minputs\u001b[0m\u001b[0;34m)\u001b[0m\u001b[0;34m\u001b[0m\u001b[0;34m\u001b[0m\u001b[0m\n\u001b[1;32m     10\u001b[0m     \u001b[0mpredictions\u001b[0m \u001b[0;34m=\u001b[0m \u001b[0mnp\u001b[0m\u001b[0;34m.\u001b[0m\u001b[0mwhere\u001b[0m\u001b[0;34m(\u001b[0m\u001b[0mpredictions\u001b[0m \u001b[0;34m>\u001b[0m \u001b[0;36m0.5\u001b[0m\u001b[0;34m,\u001b[0m \u001b[0;36m1\u001b[0m\u001b[0;34m,\u001b[0m \u001b[0;36m0\u001b[0m\u001b[0;34m)\u001b[0m\u001b[0;34m\u001b[0m\u001b[0;34m\u001b[0m\u001b[0m\n\u001b[0;32m---> 11\u001b[0;31m     \u001b[0;32mreturn\u001b[0m \u001b[0mf1_score\u001b[0m\u001b[0;34m.\u001b[0m\u001b[0mcompute\u001b[0m\u001b[0;34m(\u001b[0m\u001b[0mpredictions\u001b[0m\u001b[0;34m=\u001b[0m\u001b[0mpredictions\u001b[0m\u001b[0;34m,\u001b[0m \u001b[0mreferences\u001b[0m\u001b[0;34m=\u001b[0m\u001b[0mlabels\u001b[0m\u001b[0;34m,\u001b[0m \u001b[0maverage\u001b[0m\u001b[0;34m=\u001b[0m\u001b[0;34m\"macro\"\u001b[0m\u001b[0;34m)\u001b[0m\u001b[0;34m\u001b[0m\u001b[0;34m\u001b[0m\u001b[0m\n\u001b[0m\u001b[1;32m     12\u001b[0m \u001b[0;34m\u001b[0m\u001b[0m\n\u001b[1;32m     13\u001b[0m \u001b[0mdata_collator\u001b[0m \u001b[0;34m=\u001b[0m \u001b[0mDataCollatorWithPadding\u001b[0m\u001b[0;34m(\u001b[0m\u001b[0mtokenizer\u001b[0m\u001b[0;34m=\u001b[0m\u001b[0mtokenizer\u001b[0m\u001b[0;34m)\u001b[0m\u001b[0;34m\u001b[0m\u001b[0;34m\u001b[0m\u001b[0m\n",
      "\u001b[0;32m~/.local/lib/python3.10/site-packages/evaluate/module.py\u001b[0m in \u001b[0;36mcompute\u001b[0;34m(self, predictions, references, **kwargs)\u001b[0m\n\u001b[1;32m    448\u001b[0m \u001b[0;34m\u001b[0m\u001b[0m\n\u001b[1;32m    449\u001b[0m         \u001b[0;32mif\u001b[0m \u001b[0many\u001b[0m\u001b[0;34m(\u001b[0m\u001b[0mv\u001b[0m \u001b[0;32mis\u001b[0m \u001b[0;32mnot\u001b[0m \u001b[0;32mNone\u001b[0m \u001b[0;32mfor\u001b[0m \u001b[0mv\u001b[0m \u001b[0;32min\u001b[0m \u001b[0minputs\u001b[0m\u001b[0;34m.\u001b[0m\u001b[0mvalues\u001b[0m\u001b[0;34m(\u001b[0m\u001b[0;34m)\u001b[0m\u001b[0;34m)\u001b[0m\u001b[0;34m:\u001b[0m\u001b[0;34m\u001b[0m\u001b[0;34m\u001b[0m\u001b[0m\n\u001b[0;32m--> 450\u001b[0;31m             \u001b[0mself\u001b[0m\u001b[0;34m.\u001b[0m\u001b[0madd_batch\u001b[0m\u001b[0;34m(\u001b[0m\u001b[0;34m**\u001b[0m\u001b[0minputs\u001b[0m\u001b[0;34m)\u001b[0m\u001b[0;34m\u001b[0m\u001b[0;34m\u001b[0m\u001b[0m\n\u001b[0m\u001b[1;32m    451\u001b[0m         \u001b[0mself\u001b[0m\u001b[0;34m.\u001b[0m\u001b[0m_finalize\u001b[0m\u001b[0;34m(\u001b[0m\u001b[0;34m)\u001b[0m\u001b[0;34m\u001b[0m\u001b[0;34m\u001b[0m\u001b[0m\n\u001b[1;32m    452\u001b[0m \u001b[0;34m\u001b[0m\u001b[0m\n",
      "\u001b[0;32m~/.local/lib/python3.10/site-packages/evaluate/module.py\u001b[0m in \u001b[0;36madd_batch\u001b[0;34m(self, predictions, references, **kwargs)\u001b[0m\n\u001b[1;32m    539\u001b[0m                     \u001b[0;34mf\"Input references: {summarize_if_long_list(references)}\"\u001b[0m\u001b[0;34m\u001b[0m\u001b[0;34m\u001b[0m\u001b[0m\n\u001b[1;32m    540\u001b[0m                 )\n\u001b[0;32m--> 541\u001b[0;31m             \u001b[0;32mraise\u001b[0m \u001b[0mValueError\u001b[0m\u001b[0;34m(\u001b[0m\u001b[0merror_msg\u001b[0m\u001b[0;34m)\u001b[0m \u001b[0;32mfrom\u001b[0m \u001b[0;32mNone\u001b[0m\u001b[0;34m\u001b[0m\u001b[0;34m\u001b[0m\u001b[0m\n\u001b[0m\u001b[1;32m    542\u001b[0m \u001b[0;34m\u001b[0m\u001b[0m\n\u001b[1;32m    543\u001b[0m     \u001b[0;32mdef\u001b[0m \u001b[0madd\u001b[0m\u001b[0;34m(\u001b[0m\u001b[0mself\u001b[0m\u001b[0;34m,\u001b[0m \u001b[0;34m*\u001b[0m\u001b[0;34m,\u001b[0m \u001b[0mprediction\u001b[0m\u001b[0;34m=\u001b[0m\u001b[0;32mNone\u001b[0m\u001b[0;34m,\u001b[0m \u001b[0mreference\u001b[0m\u001b[0;34m=\u001b[0m\u001b[0;32mNone\u001b[0m\u001b[0;34m,\u001b[0m \u001b[0;34m**\u001b[0m\u001b[0mkwargs\u001b[0m\u001b[0;34m)\u001b[0m\u001b[0;34m:\u001b[0m\u001b[0;34m\u001b[0m\u001b[0;34m\u001b[0m\u001b[0m\n",
      "\u001b[0;31mValueError\u001b[0m: Mismatch in the number of predictions (3) and references (4)"
     ]
    }
   ],
   "source": [
    "trainer.evaluate(ds['train'].select(range(4)))"
   ]
  },
  {
   "cell_type": "code",
   "execution_count": null,
   "metadata": {},
   "outputs": [],
   "source": []
  }
 ],
 "metadata": {
  "kernelspec": {
   "display_name": "Python 3",
   "language": "python",
   "name": "python3"
  },
  "language_info": {
   "codemirror_mode": {
    "name": "ipython",
    "version": 3
   },
   "file_extension": ".py",
   "mimetype": "text/x-python",
   "name": "python",
   "nbconvert_exporter": "python",
   "pygments_lexer": "ipython3",
   "version": "3.10.12"
  }
 },
 "nbformat": 4,
 "nbformat_minor": 2
}
