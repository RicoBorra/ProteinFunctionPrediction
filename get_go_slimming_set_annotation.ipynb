{
 "cells": [
  {
   "cell_type": "markdown",
   "metadata": {},
   "source": [
    "# Gene Ontology generic slim"
   ]
  },
  {
   "cell_type": "code",
   "execution_count": 1,
   "metadata": {},
   "outputs": [],
   "source": [
    "from ontobio.ontol_factory import OntologyFactory\n",
    "ont = OntologyFactory().create(\"go\")\n",
    "slim = OntologyFactory().create(\"goslim_generic.json\")\n",
    "\n",
    "MOLECULAR_FUNCTION = \"GO:0003674\"\n",
    "\n",
    "slim_go_terms = [el for el in list(slim.get_graph().nodes()) if el.startswith(\"GO\")] # get all GO terms in generic slim set\n",
    "molecular_functions = ont.descendants(MOLECULAR_FUNCTION) # get all molecular functions in GO\n",
    "slim_molecular_functions = list(set(slim_go_terms) & set(molecular_functions)) # take intersetcion between molecular functions and slim GO terms\n",
    "slim_molecular_functions_descendants = {el : set(ont.descendants(el)) for el in slim_molecular_functions} # get all descendants of the above"
   ]
  },
  {
   "cell_type": "code",
   "execution_count": 2,
   "metadata": {},
   "outputs": [],
   "source": [
    "import pandas as pd\n",
    "import torch\n",
    "import numpy as np\n",
    "\n",
    "# this is a customized version of the UniProt database, only for human proteins, which are around 20k\n",
    "# the columns were chosen to minimize the size of the file while maintaining useful information\n",
    "df = pd.read_csv(\"uniprotkb_reviewed_true_AND_model_organ_2023_12_29.tsv\", sep=\"\\t\")\n",
    "df = df[~df['Gene Ontology (GO)'].isna()] # remove the ones without GO annotations"
   ]
  },
  {
   "cell_type": "code",
   "execution_count": 3,
   "metadata": {},
   "outputs": [
    {
     "data": {
      "text/html": [
       "<div>\n",
       "<style scoped>\n",
       "    .dataframe tbody tr th:only-of-type {\n",
       "        vertical-align: middle;\n",
       "    }\n",
       "\n",
       "    .dataframe tbody tr th {\n",
       "        vertical-align: top;\n",
       "    }\n",
       "\n",
       "    .dataframe thead th {\n",
       "        text-align: right;\n",
       "    }\n",
       "</style>\n",
       "<table border=\"1\" class=\"dataframe\">\n",
       "  <thead>\n",
       "    <tr style=\"text-align: right;\">\n",
       "      <th></th>\n",
       "      <th>Entry</th>\n",
       "      <th>Entry Name</th>\n",
       "      <th>Protein names</th>\n",
       "      <th>Gene Names</th>\n",
       "      <th>Organism</th>\n",
       "      <th>Length</th>\n",
       "      <th>Sequence</th>\n",
       "      <th>Gene Ontology (molecular function)</th>\n",
       "      <th>Gene Ontology (cellular component)</th>\n",
       "      <th>Gene Ontology (biological process)</th>\n",
       "      <th>Gene Ontology IDs</th>\n",
       "      <th>Gene Ontology (GO)</th>\n",
       "    </tr>\n",
       "  </thead>\n",
       "  <tbody>\n",
       "    <tr>\n",
       "      <th>1</th>\n",
       "      <td>A0A024RBG1</td>\n",
       "      <td>NUD4B_HUMAN</td>\n",
       "      <td>Diphosphoinositol polyphosphate phosphohydrola...</td>\n",
       "      <td>NUDT4B</td>\n",
       "      <td>Homo sapiens (Human)</td>\n",
       "      <td>181</td>\n",
       "      <td>MMKFKPNQTRTYDREGFKKRAACLCFRSEQEDEVLLVSSSRYPDQW...</td>\n",
       "      <td>bis(5'-adenosyl)-hexaphosphatase activity [GO:...</td>\n",
       "      <td>cytoplasm [GO:0005737]; cytosol [GO:0005829]; ...</td>\n",
       "      <td>adenosine 5'-(hexahydrogen pentaphosphate) cat...</td>\n",
       "      <td>GO:0000298; GO:0003723; GO:0005634; GO:0005737...</td>\n",
       "      <td>cytoplasm [GO:0005737]; cytosol [GO:0005829]; ...</td>\n",
       "    </tr>\n",
       "    <tr>\n",
       "      <th>28</th>\n",
       "      <td>A0A075B6Q5</td>\n",
       "      <td>HV364_HUMAN</td>\n",
       "      <td>Immunoglobulin heavy variable 3-64</td>\n",
       "      <td>IGHV3-64</td>\n",
       "      <td>Homo sapiens (Human)</td>\n",
       "      <td>118</td>\n",
       "      <td>MMEFGLSWVFLVAIFKGVQCEVQLVESGEGLVQPGGSLRLSCAASG...</td>\n",
       "      <td>antigen binding [GO:0003823]</td>\n",
       "      <td>extracellular region [GO:0005576]; immunoglobu...</td>\n",
       "      <td>immunoglobulin mediated immune response [GO:00...</td>\n",
       "      <td>GO:0003823; GO:0005576; GO:0005886; GO:0016064...</td>\n",
       "      <td>extracellular region [GO:0005576]; immunoglobu...</td>\n",
       "    </tr>\n",
       "    <tr>\n",
       "      <th>30</th>\n",
       "      <td>A0A075B6R2</td>\n",
       "      <td>HV404_HUMAN</td>\n",
       "      <td>Immunoglobulin heavy variable 4-4</td>\n",
       "      <td>IGHV4-4</td>\n",
       "      <td>Homo sapiens (Human)</td>\n",
       "      <td>117</td>\n",
       "      <td>MKHLWFFLLLVAAPRWVLSQVQLQESGPGLVKPSGTLSLTCAVSGG...</td>\n",
       "      <td>antigen binding [GO:0003823]</td>\n",
       "      <td>extracellular region [GO:0005576]; immunoglobu...</td>\n",
       "      <td>immunoglobulin mediated immune response [GO:00...</td>\n",
       "      <td>GO:0003823; GO:0005576; GO:0005886; GO:0016064...</td>\n",
       "      <td>extracellular region [GO:0005576]; immunoglobu...</td>\n",
       "    </tr>\n",
       "    <tr>\n",
       "      <th>38</th>\n",
       "      <td>A0A075B6T6</td>\n",
       "      <td>TVAL2_HUMAN</td>\n",
       "      <td>T cell receptor alpha variable 12-2</td>\n",
       "      <td>TRAV12-2</td>\n",
       "      <td>Homo sapiens (Human)</td>\n",
       "      <td>113</td>\n",
       "      <td>MKSLRVLLVILWLQLSWVWSQQKEVEQNSGPLSVPEGAIASLNCTY...</td>\n",
       "      <td>peptide antigen binding [GO:0042605]</td>\n",
       "      <td>T cell receptor complex [GO:0042101]</td>\n",
       "      <td>adaptive immune response [GO:0002250]</td>\n",
       "      <td>GO:0002250; GO:0042101; GO:0042605</td>\n",
       "      <td>T cell receptor complex [GO:0042101]; peptide ...</td>\n",
       "    </tr>\n",
       "    <tr>\n",
       "      <th>43</th>\n",
       "      <td>A0A075B6W5</td>\n",
       "      <td>TVA23_HUMAN</td>\n",
       "      <td>T cell receptor alpha variable 23/delta variab...</td>\n",
       "      <td>TRAV23DV6</td>\n",
       "      <td>Homo sapiens (Human)</td>\n",
       "      <td>121</td>\n",
       "      <td>MDKILGASFLVLWLQLCWVSGQQKEKSDQQQVKQSPQSLIVQKGGI...</td>\n",
       "      <td>peptide antigen binding [GO:0042605]</td>\n",
       "      <td>T cell receptor complex [GO:0042101]</td>\n",
       "      <td>adaptive immune response [GO:0002250]</td>\n",
       "      <td>GO:0002250; GO:0042101; GO:0042605</td>\n",
       "      <td>T cell receptor complex [GO:0042101]; peptide ...</td>\n",
       "    </tr>\n",
       "  </tbody>\n",
       "</table>\n",
       "</div>"
      ],
      "text/plain": [
       "         Entry   Entry Name  \\\n",
       "1   A0A024RBG1  NUD4B_HUMAN   \n",
       "28  A0A075B6Q5  HV364_HUMAN   \n",
       "30  A0A075B6R2  HV404_HUMAN   \n",
       "38  A0A075B6T6  TVAL2_HUMAN   \n",
       "43  A0A075B6W5  TVA23_HUMAN   \n",
       "\n",
       "                                        Protein names Gene Names  \\\n",
       "1   Diphosphoinositol polyphosphate phosphohydrola...     NUDT4B   \n",
       "28                 Immunoglobulin heavy variable 3-64   IGHV3-64   \n",
       "30                  Immunoglobulin heavy variable 4-4    IGHV4-4   \n",
       "38                T cell receptor alpha variable 12-2   TRAV12-2   \n",
       "43  T cell receptor alpha variable 23/delta variab...  TRAV23DV6   \n",
       "\n",
       "                Organism  Length  \\\n",
       "1   Homo sapiens (Human)     181   \n",
       "28  Homo sapiens (Human)     118   \n",
       "30  Homo sapiens (Human)     117   \n",
       "38  Homo sapiens (Human)     113   \n",
       "43  Homo sapiens (Human)     121   \n",
       "\n",
       "                                             Sequence  \\\n",
       "1   MMKFKPNQTRTYDREGFKKRAACLCFRSEQEDEVLLVSSSRYPDQW...   \n",
       "28  MMEFGLSWVFLVAIFKGVQCEVQLVESGEGLVQPGGSLRLSCAASG...   \n",
       "30  MKHLWFFLLLVAAPRWVLSQVQLQESGPGLVKPSGTLSLTCAVSGG...   \n",
       "38  MKSLRVLLVILWLQLSWVWSQQKEVEQNSGPLSVPEGAIASLNCTY...   \n",
       "43  MDKILGASFLVLWLQLCWVSGQQKEKSDQQQVKQSPQSLIVQKGGI...   \n",
       "\n",
       "                   Gene Ontology (molecular function)  \\\n",
       "1   bis(5'-adenosyl)-hexaphosphatase activity [GO:...   \n",
       "28                       antigen binding [GO:0003823]   \n",
       "30                       antigen binding [GO:0003823]   \n",
       "38               peptide antigen binding [GO:0042605]   \n",
       "43               peptide antigen binding [GO:0042605]   \n",
       "\n",
       "                   Gene Ontology (cellular component)  \\\n",
       "1   cytoplasm [GO:0005737]; cytosol [GO:0005829]; ...   \n",
       "28  extracellular region [GO:0005576]; immunoglobu...   \n",
       "30  extracellular region [GO:0005576]; immunoglobu...   \n",
       "38               T cell receptor complex [GO:0042101]   \n",
       "43               T cell receptor complex [GO:0042101]   \n",
       "\n",
       "                   Gene Ontology (biological process)  \\\n",
       "1   adenosine 5'-(hexahydrogen pentaphosphate) cat...   \n",
       "28  immunoglobulin mediated immune response [GO:00...   \n",
       "30  immunoglobulin mediated immune response [GO:00...   \n",
       "38              adaptive immune response [GO:0002250]   \n",
       "43              adaptive immune response [GO:0002250]   \n",
       "\n",
       "                                    Gene Ontology IDs  \\\n",
       "1   GO:0000298; GO:0003723; GO:0005634; GO:0005737...   \n",
       "28  GO:0003823; GO:0005576; GO:0005886; GO:0016064...   \n",
       "30  GO:0003823; GO:0005576; GO:0005886; GO:0016064...   \n",
       "38                 GO:0002250; GO:0042101; GO:0042605   \n",
       "43                 GO:0002250; GO:0042101; GO:0042605   \n",
       "\n",
       "                                   Gene Ontology (GO)  \n",
       "1   cytoplasm [GO:0005737]; cytosol [GO:0005829]; ...  \n",
       "28  extracellular region [GO:0005576]; immunoglobu...  \n",
       "30  extracellular region [GO:0005576]; immunoglobu...  \n",
       "38  T cell receptor complex [GO:0042101]; peptide ...  \n",
       "43  T cell receptor complex [GO:0042101]; peptide ...  "
      ]
     },
     "execution_count": 3,
     "metadata": {},
     "output_type": "execute_result"
    }
   ],
   "source": [
    "df = df[~df['Gene Ontology (molecular function)'].isna()] # remove the ones without GO annotations\n",
    "df.head()"
   ]
  },
  {
   "cell_type": "code",
   "execution_count": 4,
   "metadata": {},
   "outputs": [
    {
     "data": {
      "text/plain": [
       "<AxesSubplot:>"
      ]
     },
     "execution_count": 4,
     "metadata": {},
     "output_type": "execute_result"
    },
    {
     "data": {
      "image/png": "[encoded data removed]",
      "text/plain": [
       "<Figure size 432x288 with 1 Axes>"
      ]
     },
     "metadata": {
      "needs_background": "light"
     },
     "output_type": "display_data"
    }
   ],
   "source": [
    "df[df['Length'] < 4000]['Length'].hist(bins=100)"
   ]
  },
  {
   "cell_type": "code",
   "execution_count": 5,
   "metadata": {},
   "outputs": [],
   "source": [
    "df['Gene Ontology (molecular function)'] = df['Gene Ontology (molecular function)']\\\n",
    "    .apply(lambda x: x.split(\";\")).apply(lambda x: [el[el.index(\"[GO\")+1:-1] for el in x])"
   ]
  },
  {
   "cell_type": "code",
   "execution_count": 6,
   "metadata": {},
   "outputs": [],
   "source": [
    "for k in slim_molecular_functions:\n",
    "    df[ont.node(k)['label']] = df['Gene Ontology (molecular function)']\\\n",
    "        .apply(lambda x: max([True if el in slim_molecular_functions_descendants[k] else False for el in x]))"
   ]
  },
  {
   "cell_type": "code",
   "execution_count": 7,
   "metadata": {},
   "outputs": [
    {
     "data": {
      "text/html": [
       "<div>\n",
       "<style scoped>\n",
       "    .dataframe tbody tr th:only-of-type {\n",
       "        vertical-align: middle;\n",
       "    }\n",
       "\n",
       "    .dataframe tbody tr th {\n",
       "        vertical-align: top;\n",
       "    }\n",
       "\n",
       "    .dataframe thead th {\n",
       "        text-align: right;\n",
       "    }\n",
       "</style>\n",
       "<table border=\"1\" class=\"dataframe\">\n",
       "  <thead>\n",
       "    <tr style=\"text-align: right;\">\n",
       "      <th></th>\n",
       "      <th>Sequence</th>\n",
       "      <th>RNA binding</th>\n",
       "      <th>antioxidant activity</th>\n",
       "      <th>histone binding</th>\n",
       "      <th>lipid binding</th>\n",
       "      <th>toxin activity</th>\n",
       "      <th>molecular sequestering activity</th>\n",
       "      <th>cytoskeletal motor activity</th>\n",
       "      <th>molecular function regulator activity</th>\n",
       "      <th>catalytic activity, acting on RNA</th>\n",
       "      <th>...</th>\n",
       "      <th>nutrient reservoir activity</th>\n",
       "      <th>GTPase activity</th>\n",
       "      <th>catalytic activity, acting on DNA</th>\n",
       "      <th>cell adhesion mediator activity</th>\n",
       "      <th>catalytic activity, acting on a protein</th>\n",
       "      <th>lyase activity</th>\n",
       "      <th>cyclase activity</th>\n",
       "      <th>catalytic activity</th>\n",
       "      <th>hydrolase activity</th>\n",
       "      <th>virus coreceptor activity</th>\n",
       "    </tr>\n",
       "  </thead>\n",
       "  <tbody>\n",
       "    <tr>\n",
       "      <th>1</th>\n",
       "      <td>MMKFKPNQTRTYDREGFKKRAACLCFRSEQEDEVLLVSSSRYPDQW...</td>\n",
       "      <td>False</td>\n",
       "      <td>False</td>\n",
       "      <td>False</td>\n",
       "      <td>False</td>\n",
       "      <td>False</td>\n",
       "      <td>False</td>\n",
       "      <td>False</td>\n",
       "      <td>False</td>\n",
       "      <td>False</td>\n",
       "      <td>...</td>\n",
       "      <td>False</td>\n",
       "      <td>False</td>\n",
       "      <td>False</td>\n",
       "      <td>False</td>\n",
       "      <td>False</td>\n",
       "      <td>False</td>\n",
       "      <td>False</td>\n",
       "      <td>True</td>\n",
       "      <td>True</td>\n",
       "      <td>False</td>\n",
       "    </tr>\n",
       "    <tr>\n",
       "      <th>28</th>\n",
       "      <td>MMEFGLSWVFLVAIFKGVQCEVQLVESGEGLVQPGGSLRLSCAASG...</td>\n",
       "      <td>False</td>\n",
       "      <td>False</td>\n",
       "      <td>False</td>\n",
       "      <td>False</td>\n",
       "      <td>False</td>\n",
       "      <td>False</td>\n",
       "      <td>False</td>\n",
       "      <td>False</td>\n",
       "      <td>False</td>\n",
       "      <td>...</td>\n",
       "      <td>False</td>\n",
       "      <td>False</td>\n",
       "      <td>False</td>\n",
       "      <td>False</td>\n",
       "      <td>False</td>\n",
       "      <td>False</td>\n",
       "      <td>False</td>\n",
       "      <td>False</td>\n",
       "      <td>False</td>\n",
       "      <td>False</td>\n",
       "    </tr>\n",
       "    <tr>\n",
       "      <th>30</th>\n",
       "      <td>MKHLWFFLLLVAAPRWVLSQVQLQESGPGLVKPSGTLSLTCAVSGG...</td>\n",
       "      <td>False</td>\n",
       "      <td>False</td>\n",
       "      <td>False</td>\n",
       "      <td>False</td>\n",
       "      <td>False</td>\n",
       "      <td>False</td>\n",
       "      <td>False</td>\n",
       "      <td>False</td>\n",
       "      <td>False</td>\n",
       "      <td>...</td>\n",
       "      <td>False</td>\n",
       "      <td>False</td>\n",
       "      <td>False</td>\n",
       "      <td>False</td>\n",
       "      <td>False</td>\n",
       "      <td>False</td>\n",
       "      <td>False</td>\n",
       "      <td>False</td>\n",
       "      <td>False</td>\n",
       "      <td>False</td>\n",
       "    </tr>\n",
       "    <tr>\n",
       "      <th>38</th>\n",
       "      <td>MKSLRVLLVILWLQLSWVWSQQKEVEQNSGPLSVPEGAIASLNCTY...</td>\n",
       "      <td>False</td>\n",
       "      <td>False</td>\n",
       "      <td>False</td>\n",
       "      <td>False</td>\n",
       "      <td>False</td>\n",
       "      <td>False</td>\n",
       "      <td>False</td>\n",
       "      <td>False</td>\n",
       "      <td>False</td>\n",
       "      <td>...</td>\n",
       "      <td>False</td>\n",
       "      <td>False</td>\n",
       "      <td>False</td>\n",
       "      <td>False</td>\n",
       "      <td>False</td>\n",
       "      <td>False</td>\n",
       "      <td>False</td>\n",
       "      <td>False</td>\n",
       "      <td>False</td>\n",
       "      <td>False</td>\n",
       "    </tr>\n",
       "    <tr>\n",
       "      <th>43</th>\n",
       "      <td>MDKILGASFLVLWLQLCWVSGQQKEKSDQQQVKQSPQSLIVQKGGI...</td>\n",
       "      <td>False</td>\n",
       "      <td>False</td>\n",
       "      <td>False</td>\n",
       "      <td>False</td>\n",
       "      <td>False</td>\n",
       "      <td>False</td>\n",
       "      <td>False</td>\n",
       "      <td>False</td>\n",
       "      <td>False</td>\n",
       "      <td>...</td>\n",
       "      <td>False</td>\n",
       "      <td>False</td>\n",
       "      <td>False</td>\n",
       "      <td>False</td>\n",
       "      <td>False</td>\n",
       "      <td>False</td>\n",
       "      <td>False</td>\n",
       "      <td>False</td>\n",
       "      <td>False</td>\n",
       "      <td>False</td>\n",
       "    </tr>\n",
       "  </tbody>\n",
       "</table>\n",
       "<p>5 rows × 41 columns</p>\n",
       "</div>"
      ],
      "text/plain": [
       "                                             Sequence  RNA binding  \\\n",
       "1   MMKFKPNQTRTYDREGFKKRAACLCFRSEQEDEVLLVSSSRYPDQW...        False   \n",
       "28  MMEFGLSWVFLVAIFKGVQCEVQLVESGEGLVQPGGSLRLSCAASG...        False   \n",
       "30  MKHLWFFLLLVAAPRWVLSQVQLQESGPGLVKPSGTLSLTCAVSGG...        False   \n",
       "38  MKSLRVLLVILWLQLSWVWSQQKEVEQNSGPLSVPEGAIASLNCTY...        False   \n",
       "43  MDKILGASFLVLWLQLCWVSGQQKEKSDQQQVKQSPQSLIVQKGGI...        False   \n",
       "\n",
       "    antioxidant activity  histone binding  lipid binding  toxin activity  \\\n",
       "1                  False            False          False           False   \n",
       "28                 False            False          False           False   \n",
       "30                 False            False          False           False   \n",
       "38                 False            False          False           False   \n",
       "43                 False            False          False           False   \n",
       "\n",
       "    molecular sequestering activity  cytoskeletal motor activity  \\\n",
       "1                             False                        False   \n",
       "28                            False                        False   \n",
       "30                            False                        False   \n",
       "38                            False                        False   \n",
       "43                            False                        False   \n",
       "\n",
       "    molecular function regulator activity  catalytic activity, acting on RNA  \\\n",
       "1                                   False                              False   \n",
       "28                                  False                              False   \n",
       "30                                  False                              False   \n",
       "38                                  False                              False   \n",
       "43                                  False                              False   \n",
       "\n",
       "    ...  nutrient reservoir activity  GTPase activity  \\\n",
       "1   ...                        False            False   \n",
       "28  ...                        False            False   \n",
       "30  ...                        False            False   \n",
       "38  ...                        False            False   \n",
       "43  ...                        False            False   \n",
       "\n",
       "    catalytic activity, acting on DNA  cell adhesion mediator activity  \\\n",
       "1                               False                            False   \n",
       "28                              False                            False   \n",
       "30                              False                            False   \n",
       "38                              False                            False   \n",
       "43                              False                            False   \n",
       "\n",
       "    catalytic activity, acting on a protein  lyase activity  cyclase activity  \\\n",
       "1                                     False           False             False   \n",
       "28                                    False           False             False   \n",
       "30                                    False           False             False   \n",
       "38                                    False           False             False   \n",
       "43                                    False           False             False   \n",
       "\n",
       "    catalytic activity  hydrolase activity  virus coreceptor activity  \n",
       "1                 True                True                      False  \n",
       "28               False               False                      False  \n",
       "30               False               False                      False  \n",
       "38               False               False                      False  \n",
       "43               False               False                      False  \n",
       "\n",
       "[5 rows x 41 columns]"
      ]
     },
     "execution_count": 7,
     "metadata": {},
     "output_type": "execute_result"
    }
   ],
   "source": [
    "ohe_df = df.drop(columns=['Entry', 'Entry Name', 'Protein names', 'Gene Names', 'Organism',\n",
    "                            'Length', 'Gene Ontology (molecular function)',\n",
    "                            'Gene Ontology (cellular component)',\n",
    "                            'Gene Ontology (biological process)', 'Gene Ontology IDs',\n",
    "                            'Gene Ontology (GO)'])\n",
    "ohe_df.head()"
   ]
  },
  {
   "cell_type": "code",
   "execution_count": 8,
   "metadata": {},
   "outputs": [],
   "source": [
    "labels = ohe_df.drop(columns=[\"Sequence\"]).columns\n",
    "X = df[labels].to_numpy().astype(np.float32)\n",
    "l = []\n",
    "for i in range(X.shape[0]):\n",
    "    l.append(torch.tensor(X[i,:]))"
   ]
  },
  {
   "cell_type": "markdown",
   "metadata": {},
   "source": [
    "# LLM Fine Tuning (using a Logistic Regression as Classification Head)\n",
    "This way we take advantage of Logistic Regression multivariate response and perform independent classification of all the various classes"
   ]
  },
  {
   "cell_type": "code",
   "execution_count": 9,
   "metadata": {},
   "outputs": [
    {
     "data": {
      "text/plain": [
       "DatasetDict({\n",
       "    train: Dataset({\n",
       "        features: ['labels', 'sequence'],\n",
       "        num_rows: 12817\n",
       "    })\n",
       "    test: Dataset({\n",
       "        features: ['labels', 'sequence'],\n",
       "        num_rows: 3205\n",
       "    })\n",
       "})"
      ]
     },
     "execution_count": 9,
     "metadata": {},
     "output_type": "execute_result"
    }
   ],
   "source": [
    "from datasets import Dataset\n",
    "\n",
    "ds = Dataset.from_dict({\"labels\": l, \"sequence\" : df['Sequence']})\n",
    "ds = ds.shuffle(seed=42).train_test_split(test_size=0.2)\n",
    "ds"
   ]
  },
  {
   "cell_type": "code",
   "execution_count": 10,
   "metadata": {},
   "outputs": [
    {
     "name": "stderr",
     "output_type": "stream",
     "text": [
      "Some weights of EsmModel were not initialized from the model checkpoint at facebook/esm2_t6_8M_UR50D and are newly initialized: ['esm.pooler.dense.weight', 'esm.pooler.dense.bias']\n",
      "You should probably TRAIN this model on a down-stream task to be able to use it for predictions and inference.\n"
     ]
    }
   ],
   "source": [
    "from transformers import AutoTokenizer, EsmModel\n",
    "import torch\n",
    "import os\n",
    "\n",
    "os.environ['TOKENIZERS_PARALLELISM'] = \"false\"\n",
    "os.environ[\"WANDB_DISABLED\"] = \"true\"\n",
    "\n",
    "#checkpoint = \"facebook/esm2_t30_150M_UR50D\"\n",
    "#checkpoint = \"facebook/esm2_t12_35M_UR50D\"\n",
    "checkpoint = \"facebook/esm2_t6_8M_UR50D\"\n",
    "\n",
    "BATCH_SIZE = 4\n",
    "NUM_EPOCHS = 6\n",
    "\n",
    "tokenizer = AutoTokenizer.from_pretrained(checkpoint)\n",
    "model = EsmModel.from_pretrained(checkpoint)"
   ]
  },
  {
   "cell_type": "code",
   "execution_count": 11,
   "metadata": {},
   "outputs": [
    {
     "data": {
      "application/vnd.jupyter.widget-view+json": {
       "model_id": "751e70acf6474d52ba1c3254a193ce3c",
       "version_major": 2,
       "version_minor": 0
      },
      "text/plain": [
       "Map:   0%|          | 0/12817 [00:00<?, ? examples/s]"
      ]
     },
     "metadata": {},
     "output_type": "display_data"
    },
    {
     "data": {
      "application/vnd.jupyter.widget-view+json": {
       "model_id": "3944ab97ecbc430ab877957fcdacb02e",
       "version_major": 2,
       "version_minor": 0
      },
      "text/plain": [
       "Map:   0%|          | 0/3205 [00:00<?, ? examples/s]"
      ]
     },
     "metadata": {},
     "output_type": "display_data"
    },
    {
     "data": {
      "text/plain": [
       "DatasetDict({\n",
       "    train: Dataset({\n",
       "        features: ['labels', 'input_ids', 'attention_mask'],\n",
       "        num_rows: 12817\n",
       "    })\n",
       "    test: Dataset({\n",
       "        features: ['labels', 'input_ids', 'attention_mask'],\n",
       "        num_rows: 3205\n",
       "    })\n",
       "})"
      ]
     },
     "execution_count": 11,
     "metadata": {},
     "output_type": "execute_result"
    }
   ],
   "source": [
    "def preprocess_tokenize(mapped_ds):\n",
    "    return tokenizer(mapped_ds['sequence'], truncation=True, max_length=1024)\n",
    "\n",
    "ds = ds.map(preprocess_tokenize)\n",
    "ds = ds.remove_columns(\"sequence\")\n",
    "ds"
   ]
  },
  {
   "cell_type": "code",
   "execution_count": 12,
   "metadata": {},
   "outputs": [],
   "source": [
    "#import pytorch_lightning as pl\n",
    "import torch.nn as nn\n",
    "from transformers import Trainer, TrainingArguments\n",
    "\n",
    "class ESMwithMultiClass(nn.Module):\n",
    "    def __init__(self, num_labels=40, lr=1e-4):\n",
    "        super().__init__()\n",
    "        self.llm = model\n",
    "        self.num_labels = num_labels\n",
    "        self.clf = nn.Sequential(\n",
    "            nn.Flatten(),\n",
    "            nn.Dropout(0.2),\n",
    "            nn.Linear(in_features=model.pooler.dense.in_features, out_features=self.num_labels),\n",
    "            nn.Sigmoid()\n",
    "        )\n",
    "        self.lr = lr\n",
    "\n",
    "    def forward(self, input_ids, attention_mask, labels=None):\n",
    "        return {'logits': self.clf(self.llm(input_ids, attention_mask).pooler_output)}\n",
    "    \n",
    "class MultilabelTrainer(Trainer):\n",
    "    def compute_loss(self, model, inputs, return_outputs=False):\n",
    "        labels = inputs.get(\"labels\")\n",
    "        logits = model(**inputs)['logits']\n",
    "        #logits = outputs.get('logits')\n",
    "        loss_fct = nn.BCELoss()\n",
    "        loss = loss_fct(logits.view(-1, self.model.num_labels),\n",
    "                        labels.float().view(-1, self.model.num_labels))\n",
    "        loss = loss.mean()\n",
    "        return (loss, model(**inputs)) if return_outputs else loss"
   ]
  },
  {
   "cell_type": "code",
   "execution_count": 13,
   "metadata": {},
   "outputs": [],
   "source": [
    "import evaluate\n",
    "from transformers import DataCollatorWithPadding\n",
    "from typing import List, Dict, Any\n",
    "\n",
    "def compute_metrics(eval_pred):\n",
    "    f1_score = evaluate.load(\"f1\")\n",
    "    predictions, labels = eval_pred\n",
    "    #print(\"metrics\")\n",
    "    #print(predictions, labels)\n",
    "    #print(eval_pred.inputs)\n",
    "    predictions = np.where(predictions > 0.5, 1, 0)\n",
    "    labels = np.where(labels > 0.5, 1, 0)\n",
    "    f1s = []\n",
    "    for i in range(40):\n",
    "        f1s.append(f1_score.compute(predictions=predictions[:, i], references=labels[:, i], average=\"macro\")['f1'])\n",
    "    average_wrongs = np.logical_xor(predictions, labels).sum(axis=1).mean()\n",
    "    return {'f1_average' : sum(f1s) / len(f1s), 'average_wrongs_xor' : float(average_wrongs)}\n",
    "\n",
    "data_collator = DataCollatorWithPadding(tokenizer=tokenizer)"
   ]
  },
  {
   "cell_type": "code",
   "execution_count": 14,
   "metadata": {},
   "outputs": [
    {
     "name": "stderr",
     "output_type": "stream",
     "text": [
      "Using the `WANDB_DISABLED` environment variable is deprecated and will be removed in v5. Use the --report_to flag to control the integrations used for logging result (for instance --report_to none).\n"
     ]
    }
   ],
   "source": [
    "esm = ESMwithMultiClass()\n",
    "training_args = TrainingArguments(\n",
    "    output_dir=\"./esm_multilabel\",\n",
    "    learning_rate=1e-4,\n",
    "    per_device_train_batch_size=BATCH_SIZE,\n",
    "    per_device_eval_batch_size=BATCH_SIZE,\n",
    "    num_train_epochs=NUM_EPOCHS,\n",
    "    weight_decay=0.01,\n",
    "    evaluation_strategy=\"epoch\",\n",
    "    logging_strategy=\"epoch\",\n",
    "    save_strategy=\"no\",\n",
    "    logging_steps=1,\n",
    ")"
   ]
  },
  {
   "cell_type": "code",
   "execution_count": 15,
   "metadata": {},
   "outputs": [],
   "source": [
    "trainer = MultilabelTrainer( # can you belive that it drops columns that are not explicitly used by the model?\n",
    "        model=esm,\n",
    "        args=training_args,\n",
    "        train_dataset=ds[\"train\"].select(range(1_000)),\n",
    "        eval_dataset=ds[\"test\"].select(range(500)),\n",
    "        tokenizer=tokenizer,\n",
    "        data_collator=data_collator,\n",
    "        compute_metrics=compute_metrics,\n",
    "    )"
   ]
  },
  {
   "cell_type": "code",
   "execution_count": 16,
   "metadata": {},
   "outputs": [
    {
     "data": {
      "text/html": [
       "\n",
       "    <div>\n",
       "      \n",
       "      <progress value='250' max='125' style='width:300px; height:20px; vertical-align: middle;'></progress>\n",
       "      [125/125 00:53]\n",
       "    </div>\n",
       "    "
      ],
      "text/plain": [
       "<IPython.core.display.HTML object>"
      ]
     },
     "metadata": {},
     "output_type": "display_data"
    },
    {
     "data": {
      "text/plain": [
       "{'eval_loss': 0.6936500072479248,\n",
       " 'eval_f1_average': 0.33092873166751263,\n",
       " 'eval_average_wrongs_xor': 18.522,\n",
       " 'eval_runtime': 13.7089,\n",
       " 'eval_samples_per_second': 36.473,\n",
       " 'eval_steps_per_second': 9.118}"
      ]
     },
     "execution_count": 16,
     "metadata": {},
     "output_type": "execute_result"
    }
   ],
   "source": [
    "trainer.evaluate(ds[\"test\"].select(range(500)))"
   ]
  },
  {
   "cell_type": "code",
   "execution_count": 17,
   "metadata": {},
   "outputs": [
    {
     "data": {
      "text/html": [
       "\n",
       "    <div>\n",
       "      \n",
       "      <progress value='1500' max='1500' style='width:300px; height:20px; vertical-align: middle;'></progress>\n",
       "      [1500/1500 04:15, Epoch 6/6]\n",
       "    </div>\n",
       "    <table border=\"1\" class=\"dataframe\">\n",
       "  <thead>\n",
       " <tr style=\"text-align: left;\">\n",
       "      <th>Epoch</th>\n",
       "      <th>Training Loss</th>\n",
       "      <th>Validation Loss</th>\n",
       "      <th>F1 Average</th>\n",
       "      <th>Average Wrongs Xor</th>\n",
       "    </tr>\n",
       "  </thead>\n",
       "  <tbody>\n",
       "    <tr>\n",
       "      <td>1</td>\n",
       "      <td>0.547500</td>\n",
       "      <td>0.429751</td>\n",
       "      <td>0.600177</td>\n",
       "      <td>1.818000</td>\n",
       "    </tr>\n",
       "    <tr>\n",
       "      <td>2</td>\n",
       "      <td>0.352700</td>\n",
       "      <td>0.290195</td>\n",
       "      <td>0.600177</td>\n",
       "      <td>1.818000</td>\n",
       "    </tr>\n",
       "    <tr>\n",
       "      <td>3</td>\n",
       "      <td>0.256000</td>\n",
       "      <td>0.230197</td>\n",
       "      <td>0.600177</td>\n",
       "      <td>1.818000</td>\n",
       "    </tr>\n",
       "    <tr>\n",
       "      <td>4</td>\n",
       "      <td>0.215500</td>\n",
       "      <td>0.204769</td>\n",
       "      <td>0.600177</td>\n",
       "      <td>1.818000</td>\n",
       "    </tr>\n",
       "    <tr>\n",
       "      <td>5</td>\n",
       "      <td>0.198400</td>\n",
       "      <td>0.193789</td>\n",
       "      <td>0.600177</td>\n",
       "      <td>1.818000</td>\n",
       "    </tr>\n",
       "    <tr>\n",
       "      <td>6</td>\n",
       "      <td>0.191400</td>\n",
       "      <td>0.190607</td>\n",
       "      <td>0.600177</td>\n",
       "      <td>1.818000</td>\n",
       "    </tr>\n",
       "  </tbody>\n",
       "</table><p>"
      ],
      "text/plain": [
       "<IPython.core.display.HTML object>"
      ]
     },
     "metadata": {},
     "output_type": "display_data"
    },
    {
     "data": {
      "text/plain": [
       "TrainOutput(global_step=1500, training_loss=0.2935831146240234, metrics={'train_runtime': 255.9121, 'train_samples_per_second': 23.446, 'train_steps_per_second': 5.861, 'total_flos': 0.0, 'train_loss': 0.2935831146240234, 'epoch': 6.0})"
      ]
     },
     "execution_count": 17,
     "metadata": {},
     "output_type": "execute_result"
    }
   ],
   "source": [
    "trainer.train()"
   ]
  }
 ],
 "metadata": {
  "kernelspec": {
   "display_name": "Python 3",
   "language": "python",
   "name": "python3"
  },
  "language_info": {
   "codemirror_mode": {
    "name": "ipython",
    "version": 3
   },
   "file_extension": ".py",
   "mimetype": "text/x-python",
   "name": "python",
   "nbconvert_exporter": "python",
   "pygments_lexer": "ipython3",
   "version": "3.10.12"
  }
 },
 "nbformat": 4,
 "nbformat_minor": 2
}
